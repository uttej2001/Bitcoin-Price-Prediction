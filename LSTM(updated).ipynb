{
 "cells": [
  {
   "cell_type": "markdown",
   "id": "af4e84bd",
   "metadata": {},
   "source": [
    "# Neural Network Model (LSTM) on Bitcoin Historical Data"
   ]
  },
  {
   "cell_type": "markdown",
   "id": "53e160bd",
   "metadata": {},
   "source": [
    "#### *TEAM B*"
   ]
  },
  {
   "cell_type": "markdown",
   "id": "aaad1827",
   "metadata": {},
   "source": [
    "### Importing essential libraries"
   ]
  },
  {
   "cell_type": "code",
   "execution_count": 1,
   "id": "d30a13f4",
   "metadata": {},
   "outputs": [],
   "source": [
    "import numpy as np\n",
    "import pandas as pd\n",
    "import matplotlib.pyplot as plt"
   ]
  },
  {
   "cell_type": "markdown",
   "id": "320de88d",
   "metadata": {},
   "source": [
    "### Reading the pickle file"
   ]
  },
  {
   "cell_type": "code",
   "execution_count": 2,
   "id": "146169f5",
   "metadata": {
    "scrolled": false
   },
   "outputs": [
    {
     "data": {
      "text/html": [
       "<div>\n",
       "<style scoped>\n",
       "    .dataframe tbody tr th:only-of-type {\n",
       "        vertical-align: middle;\n",
       "    }\n",
       "\n",
       "    .dataframe tbody tr th {\n",
       "        vertical-align: top;\n",
       "    }\n",
       "\n",
       "    .dataframe thead th {\n",
       "        text-align: right;\n",
       "    }\n",
       "</style>\n",
       "<table border=\"1\" class=\"dataframe\">\n",
       "  <thead>\n",
       "    <tr style=\"text-align: right;\">\n",
       "      <th></th>\n",
       "      <th>Price</th>\n",
       "      <th>Open</th>\n",
       "      <th>High</th>\n",
       "      <th>Low</th>\n",
       "      <th>Vol.</th>\n",
       "      <th>Change %</th>\n",
       "    </tr>\n",
       "    <tr>\n",
       "      <th>Date</th>\n",
       "      <th></th>\n",
       "      <th></th>\n",
       "      <th></th>\n",
       "      <th></th>\n",
       "      <th></th>\n",
       "      <th></th>\n",
       "    </tr>\n",
       "  </thead>\n",
       "  <tbody>\n",
       "    <tr>\n",
       "      <th>2015-10-16</th>\n",
       "      <td>262.9</td>\n",
       "      <td>254.4</td>\n",
       "      <td>267.3</td>\n",
       "      <td>253.9</td>\n",
       "      <td>95180.0</td>\n",
       "      <td>3.31</td>\n",
       "    </tr>\n",
       "    <tr>\n",
       "      <th>2015-10-17</th>\n",
       "      <td>269.6</td>\n",
       "      <td>262.9</td>\n",
       "      <td>275.4</td>\n",
       "      <td>261.7</td>\n",
       "      <td>113840.0</td>\n",
       "      <td>2.55</td>\n",
       "    </tr>\n",
       "    <tr>\n",
       "      <th>2015-10-18</th>\n",
       "      <td>261.7</td>\n",
       "      <td>269.6</td>\n",
       "      <td>272.4</td>\n",
       "      <td>259.5</td>\n",
       "      <td>52270.0</td>\n",
       "      <td>-2.93</td>\n",
       "    </tr>\n",
       "    <tr>\n",
       "      <th>2015-10-19</th>\n",
       "      <td>263.8</td>\n",
       "      <td>261.7</td>\n",
       "      <td>266.0</td>\n",
       "      <td>259.9</td>\n",
       "      <td>58170.0</td>\n",
       "      <td>0.82</td>\n",
       "    </tr>\n",
       "    <tr>\n",
       "      <th>2015-10-20</th>\n",
       "      <td>269.8</td>\n",
       "      <td>263.8</td>\n",
       "      <td>272.1</td>\n",
       "      <td>262.7</td>\n",
       "      <td>75400.0</td>\n",
       "      <td>2.25</td>\n",
       "    </tr>\n",
       "  </tbody>\n",
       "</table>\n",
       "</div>"
      ],
      "text/plain": [
       "            Price   Open   High    Low      Vol. Change %\n",
       "Date                                                     \n",
       "2015-10-16  262.9  254.4  267.3  253.9   95180.0     3.31\n",
       "2015-10-17  269.6  262.9  275.4  261.7  113840.0     2.55\n",
       "2015-10-18  261.7  269.6  272.4  259.5   52270.0    -2.93\n",
       "2015-10-19  263.8  261.7  266.0  259.9   58170.0     0.82\n",
       "2015-10-20  269.8  263.8  272.1  262.7   75400.0     2.25"
      ]
     },
     "execution_count": 2,
     "metadata": {},
     "output_type": "execute_result"
    }
   ],
   "source": [
    "#df = pd.read_pickle(\"./df.pkl\")    # reading 1 yr cleaned data pickle file\n",
    "df = pd.read_pickle('./dfe.pkl')    # reading 5 yr cleaned data pickle file\n",
    "df.head()"
   ]
  },
  {
   "cell_type": "code",
   "execution_count": 3,
   "id": "e1dd17f2",
   "metadata": {},
   "outputs": [
    {
     "data": {
      "text/html": [
       "<div>\n",
       "<style scoped>\n",
       "    .dataframe tbody tr th:only-of-type {\n",
       "        vertical-align: middle;\n",
       "    }\n",
       "\n",
       "    .dataframe tbody tr th {\n",
       "        vertical-align: top;\n",
       "    }\n",
       "\n",
       "    .dataframe thead th {\n",
       "        text-align: right;\n",
       "    }\n",
       "</style>\n",
       "<table border=\"1\" class=\"dataframe\">\n",
       "  <thead>\n",
       "    <tr style=\"text-align: right;\">\n",
       "      <th></th>\n",
       "      <th>Price</th>\n",
       "      <th>Open</th>\n",
       "      <th>High</th>\n",
       "      <th>Low</th>\n",
       "      <th>Vol.</th>\n",
       "      <th>Change %</th>\n",
       "    </tr>\n",
       "    <tr>\n",
       "      <th>Date</th>\n",
       "      <th></th>\n",
       "      <th></th>\n",
       "      <th></th>\n",
       "      <th></th>\n",
       "      <th></th>\n",
       "      <th></th>\n",
       "    </tr>\n",
       "  </thead>\n",
       "  <tbody>\n",
       "    <tr>\n",
       "      <th>2021-10-12</th>\n",
       "      <td>56015.9</td>\n",
       "      <td>57480.6</td>\n",
       "      <td>57635.7</td>\n",
       "      <td>54155.4</td>\n",
       "      <td>74850.0</td>\n",
       "      <td>-2.54</td>\n",
       "    </tr>\n",
       "    <tr>\n",
       "      <th>2021-10-13</th>\n",
       "      <td>57380.1</td>\n",
       "      <td>56014.5</td>\n",
       "      <td>57697.4</td>\n",
       "      <td>54314.4</td>\n",
       "      <td>73620.0</td>\n",
       "      <td>2.44</td>\n",
       "    </tr>\n",
       "    <tr>\n",
       "      <th>2021-10-14</th>\n",
       "      <td>57345.8</td>\n",
       "      <td>57370.4</td>\n",
       "      <td>58506.5</td>\n",
       "      <td>56866.8</td>\n",
       "      <td>59840.0</td>\n",
       "      <td>-0.06</td>\n",
       "    </tr>\n",
       "    <tr>\n",
       "      <th>2021-10-15</th>\n",
       "      <td>61672.5</td>\n",
       "      <td>57348.2</td>\n",
       "      <td>62892.8</td>\n",
       "      <td>56874.8</td>\n",
       "      <td>121480.0</td>\n",
       "      <td>7.54</td>\n",
       "    </tr>\n",
       "    <tr>\n",
       "      <th>2021-10-16</th>\n",
       "      <td>60861.1</td>\n",
       "      <td>61669.2</td>\n",
       "      <td>62329.2</td>\n",
       "      <td>60161.9</td>\n",
       "      <td>49930.0</td>\n",
       "      <td>-1.32</td>\n",
       "    </tr>\n",
       "  </tbody>\n",
       "</table>\n",
       "</div>"
      ],
      "text/plain": [
       "              Price     Open     High      Low      Vol. Change %\n",
       "Date                                                             \n",
       "2021-10-12  56015.9  57480.6  57635.7  54155.4   74850.0    -2.54\n",
       "2021-10-13  57380.1  56014.5  57697.4  54314.4   73620.0     2.44\n",
       "2021-10-14  57345.8  57370.4  58506.5  56866.8   59840.0    -0.06\n",
       "2021-10-15  61672.5  57348.2  62892.8  56874.8  121480.0     7.54\n",
       "2021-10-16  60861.1  61669.2  62329.2  60161.9   49930.0    -1.32"
      ]
     },
     "execution_count": 3,
     "metadata": {},
     "output_type": "execute_result"
    }
   ],
   "source": [
    "df.tail()"
   ]
  },
  {
   "cell_type": "markdown",
   "id": "a6fdfb0c",
   "metadata": {},
   "source": [
    "### Scaling the data"
   ]
  },
  {
   "cell_type": "code",
   "execution_count": 4,
   "id": "359767b0",
   "metadata": {},
   "outputs": [],
   "source": [
    "from sklearn import preprocessing\n",
    "from sklearn.preprocessing import MinMaxScaler"
   ]
  },
  {
   "cell_type": "code",
   "execution_count": 5,
   "id": "25b1e704",
   "metadata": {},
   "outputs": [],
   "source": [
    "min_max_scaler = preprocessing.MinMaxScaler(feature_range=(0, 1))\n",
    "ds = min_max_scaler.fit_transform(df['Price'].values.reshape(-1, 1))"
   ]
  },
  {
   "cell_type": "code",
   "execution_count": 6,
   "id": "fc250b24",
   "metadata": {},
   "outputs": [],
   "source": [
    "train_size = int(len(ds) * 0.7)\n",
    "test_size = len(ds)-train_size\n",
    "train = ds[:train_size]\n",
    "test = ds[train_size:]"
   ]
  },
  {
   "cell_type": "code",
   "execution_count": 7,
   "id": "272e38bc",
   "metadata": {
    "scrolled": true
   },
   "outputs": [
    {
     "name": "stdout",
     "output_type": "stream",
     "text": [
      "Train size:  1535\n",
      "Test size:  658\n"
     ]
    }
   ],
   "source": [
    "print(\"Train size: \", len(train))\n",
    "print(\"Test size: \", len(test))"
   ]
  },
  {
   "cell_type": "markdown",
   "id": "7baff1b1",
   "metadata": {},
   "source": [
    "### Train / Test distribution"
   ]
  },
  {
   "cell_type": "code",
   "execution_count": 8,
   "id": "03a85b2c",
   "metadata": {},
   "outputs": [],
   "source": [
    "look_back = 15\n",
    "\n",
    "dataX, dataY = [], []\n",
    "for i in range(look_back, train.shape[0]):\n",
    "    dataX.append(train[i-look_back:i])\n",
    "    dataY.append(train[i,0])\n",
    "x_train = np.array(dataX)\n",
    "y_train = np.array(dataY)"
   ]
  },
  {
   "cell_type": "code",
   "execution_count": 9,
   "id": "6c638a40",
   "metadata": {},
   "outputs": [],
   "source": [
    "dataX, dataY = [], []\n",
    "for i in range(look_back, test.shape[0]):\n",
    "    dataX.append(test[i-look_back:i])\n",
    "    dataY.append(test[i,0])\n",
    "x_test = np.array(dataX)\n",
    "y_test = np.array(dataY)"
   ]
  },
  {
   "cell_type": "code",
   "execution_count": 10,
   "id": "40e4bf20",
   "metadata": {},
   "outputs": [
    {
     "name": "stdout",
     "output_type": "stream",
     "text": [
      "X-Train shape: (1520, 15, 1)\n",
      "Y-Train shape: (1520,)\n",
      "X-Test shape: (643, 15, 1)\n",
      "Y-Test shape: (643,)\n"
     ]
    }
   ],
   "source": [
    "print(\"X-Train shape:\", x_train.shape)\n",
    "print(\"Y-Train shape:\", y_train.shape)\n",
    "print(\"X-Test shape:\", x_test.shape)\n",
    "print(\"Y-Test shape:\", y_test.shape)"
   ]
  },
  {
   "cell_type": "markdown",
   "id": "b9961bb6",
   "metadata": {},
   "source": [
    "### Creating the model"
   ]
  },
  {
   "cell_type": "code",
   "execution_count": 11,
   "id": "0dcc7821",
   "metadata": {},
   "outputs": [],
   "source": [
    "from keras import Sequential\n",
    "from keras.layers import Dense, Dropout, LSTM\n",
    "from tensorflow.keras.optimizers import Adam"
   ]
  },
  {
   "cell_type": "code",
   "execution_count": 12,
   "id": "3e44fd48",
   "metadata": {},
   "outputs": [],
   "source": [
    "model = Sequential()\n",
    "model.add(LSTM(150, activation='tanh', input_shape=(x_train.shape[1], 1)))\n",
    "model.add(Dense(1))\n",
    "\n",
    "adam = Adam(\n",
    "    learning_rate=0.00001,\n",
    "    beta_1=0.001,\n",
    "    beta_2=0.01,\n",
    "    epsilon=1e-07,\n",
    "    amsgrad=False,\n",
    ")\n",
    "\n",
    "model.compile(loss='mean_squared_error', optimizer='adam')"
   ]
  },
  {
   "cell_type": "code",
   "execution_count": 13,
   "id": "1f5026af",
   "metadata": {},
   "outputs": [],
   "source": [
    "np.random.seed(7)"
   ]
  },
  {
   "cell_type": "code",
   "execution_count": 14,
   "id": "8d2dcb03",
   "metadata": {},
   "outputs": [
    {
     "name": "stdout",
     "output_type": "stream",
     "text": [
      "Model: \"sequential\"\n",
      "_________________________________________________________________\n",
      "Layer (type)                 Output Shape              Param #   \n",
      "=================================================================\n",
      "lstm (LSTM)                  (None, 150)               91200     \n",
      "_________________________________________________________________\n",
      "dense (Dense)                (None, 1)                 151       \n",
      "=================================================================\n",
      "Total params: 91,351\n",
      "Trainable params: 91,351\n",
      "Non-trainable params: 0\n",
      "_________________________________________________________________\n"
     ]
    }
   ],
   "source": [
    "model.summary()"
   ]
  },
  {
   "cell_type": "markdown",
   "id": "59bead8f",
   "metadata": {},
   "source": [
    "### Training the Model"
   ]
  },
  {
   "cell_type": "code",
   "execution_count": 15,
   "id": "b8fb7797",
   "metadata": {},
   "outputs": [
    {
     "name": "stdout",
     "output_type": "stream",
     "text": [
      "Epoch 1/50\n",
      "95/95 [==============================] - 14s 48ms/step - loss: 5.7605e-04 - val_loss: 0.0021\n",
      "Epoch 2/50\n",
      "95/95 [==============================] - 2s 26ms/step - loss: 1.0245e-04 - val_loss: 0.0023\n",
      "Epoch 3/50\n",
      "95/95 [==============================] - 2s 20ms/step - loss: 8.7242e-05 - val_loss: 0.0015\n",
      "Epoch 4/50\n",
      "95/95 [==============================] - 2s 22ms/step - loss: 7.8631e-05 - val_loss: 0.0026\n",
      "Epoch 5/50\n",
      "95/95 [==============================] - 2s 20ms/step - loss: 7.4483e-05 - val_loss: 0.0012\n",
      "Epoch 6/50\n",
      "95/95 [==============================] - 2s 20ms/step - loss: 6.4785e-05 - val_loss: 9.5697e-04\n",
      "Epoch 7/50\n",
      "95/95 [==============================] - 2s 23ms/step - loss: 6.4561e-05 - val_loss: 0.0021\n",
      "Epoch 8/50\n",
      "95/95 [==============================] - 2s 25ms/step - loss: 5.8733e-05 - val_loss: 0.0019\n",
      "Epoch 9/50\n",
      "95/95 [==============================] - 2s 24ms/step - loss: 6.4147e-05 - val_loss: 0.0011\n",
      "Epoch 10/50\n",
      "95/95 [==============================] - 3s 27ms/step - loss: 5.2506e-05 - val_loss: 0.0018\n",
      "Epoch 11/50\n",
      "95/95 [==============================] - 2s 23ms/step - loss: 4.9084e-05 - val_loss: 0.0014\n",
      "Epoch 12/50\n",
      "95/95 [==============================] - 2s 22ms/step - loss: 4.9924e-05 - val_loss: 0.0013\n",
      "Epoch 13/50\n",
      "95/95 [==============================] - 2s 22ms/step - loss: 5.1727e-05 - val_loss: 0.0017\n",
      "Epoch 14/50\n",
      "95/95 [==============================] - 2s 21ms/step - loss: 4.8815e-05 - val_loss: 0.0013\n",
      "Epoch 15/50\n",
      "95/95 [==============================] - 2s 20ms/step - loss: 4.2692e-05 - val_loss: 0.0020\n",
      "Epoch 16/50\n",
      "95/95 [==============================] - 2s 19ms/step - loss: 4.0192e-05 - val_loss: 0.0017\n",
      "Epoch 17/50\n",
      "95/95 [==============================] - 2s 19ms/step - loss: 4.1971e-05 - val_loss: 0.0014\n",
      "Epoch 18/50\n",
      "95/95 [==============================] - 2s 23ms/step - loss: 3.8855e-05 - val_loss: 0.0018\n",
      "Epoch 19/50\n",
      "95/95 [==============================] - 2s 21ms/step - loss: 4.0319e-05 - val_loss: 7.6644e-04\n",
      "Epoch 20/50\n",
      "95/95 [==============================] - 2s 22ms/step - loss: 3.6581e-05 - val_loss: 5.7820e-04\n",
      "Epoch 21/50\n",
      "95/95 [==============================] - 3s 27ms/step - loss: 4.1185e-05 - val_loss: 0.0015\n",
      "Epoch 22/50\n",
      "95/95 [==============================] - 2s 21ms/step - loss: 3.4490e-05 - val_loss: 0.0012\n",
      "Epoch 23/50\n",
      "95/95 [==============================] - 2s 20ms/step - loss: 3.4312e-05 - val_loss: 0.0010\n",
      "Epoch 24/50\n",
      "95/95 [==============================] - 2s 20ms/step - loss: 3.7003e-05 - val_loss: 7.8255e-04\n",
      "Epoch 25/50\n",
      "95/95 [==============================] - 2s 20ms/step - loss: 3.4482e-05 - val_loss: 7.3035e-04\n",
      "Epoch 26/50\n",
      "95/95 [==============================] - 2s 19ms/step - loss: 3.2064e-05 - val_loss: 6.6026e-04\n",
      "Epoch 27/50\n",
      "95/95 [==============================] - 2s 26ms/step - loss: 3.2895e-05 - val_loss: 9.1727e-04\n",
      "Epoch 28/50\n",
      "95/95 [==============================] - 2s 23ms/step - loss: 3.2440e-05 - val_loss: 0.0011\n",
      "Epoch 29/50\n",
      "95/95 [==============================] - 2s 22ms/step - loss: 3.2714e-05 - val_loss: 9.8319e-04\n",
      "Epoch 30/50\n",
      "95/95 [==============================] - 3s 33ms/step - loss: 3.3536e-05 - val_loss: 0.0019\n",
      "Epoch 31/50\n",
      "95/95 [==============================] - 3s 29ms/step - loss: 3.5113e-05 - val_loss: 8.6749e-04\n",
      "Epoch 32/50\n",
      "95/95 [==============================] - 2s 25ms/step - loss: 3.2519e-05 - val_loss: 4.7039e-04\n",
      "Epoch 33/50\n",
      "95/95 [==============================] - 2s 26ms/step - loss: 3.4159e-05 - val_loss: 6.7873e-04\n",
      "Epoch 34/50\n",
      "95/95 [==============================] - 2s 23ms/step - loss: 2.9026e-05 - val_loss: 7.6753e-04 ETA: 1\n",
      "Epoch 35/50\n",
      "95/95 [==============================] - 2s 21ms/step - loss: 2.8987e-05 - val_loss: 5.2469e-04\n",
      "Epoch 36/50\n",
      "95/95 [==============================] - 2s 23ms/step - loss: 3.0972e-05 - val_loss: 6.5823e-04\n",
      "Epoch 37/50\n",
      "95/95 [==============================] - 2s 22ms/step - loss: 2.6906e-05 - val_loss: 5.3237e-04\n",
      "Epoch 38/50\n",
      "95/95 [==============================] - 2s 22ms/step - loss: 3.0957e-05 - val_loss: 0.0012\n",
      "Epoch 39/50\n",
      "95/95 [==============================] - 2s 20ms/step - loss: 2.8244e-05 - val_loss: 6.8388e-04\n",
      "Epoch 40/50\n",
      "95/95 [==============================] - 2s 23ms/step - loss: 2.9680e-05 - val_loss: 6.4103e-04\n",
      "Epoch 41/50\n",
      "95/95 [==============================] - 3s 27ms/step - loss: 3.5022e-05 - val_loss: 7.8103e-04- ETA: 1s -\n",
      "Epoch 42/50\n",
      "95/95 [==============================] - 3s 29ms/step - loss: 2.6447e-05 - val_loss: 6.5917e-04\n",
      "Epoch 43/50\n",
      "95/95 [==============================] - 2s 22ms/step - loss: 2.6536e-05 - val_loss: 8.1790e-04\n",
      "Epoch 44/50\n",
      "95/95 [==============================] - 2s 20ms/step - loss: 2.5550e-05 - val_loss: 8.1951e-04\n",
      "Epoch 45/50\n",
      "95/95 [==============================] - 2s 20ms/step - loss: 2.8922e-05 - val_loss: 9.8229e-04\n",
      "Epoch 46/50\n",
      "95/95 [==============================] - 2s 20ms/step - loss: 2.7593e-05 - val_loss: 8.6461e-04\n",
      "Epoch 47/50\n",
      "95/95 [==============================] - 2s 19ms/step - loss: 2.5323e-05 - val_loss: 7.1694e-04\n",
      "Epoch 48/50\n",
      "95/95 [==============================] - 2s 20ms/step - loss: 2.7700e-05 - val_loss: 7.7090e-04\n",
      "Epoch 49/50\n",
      "95/95 [==============================] - 2s 21ms/step - loss: 2.6233e-05 - val_loss: 5.9048e-04\n",
      "Epoch 50/50\n",
      "95/95 [==============================] - 2s 21ms/step - loss: 2.8620e-05 - val_loss: 9.6751e-04\n"
     ]
    }
   ],
   "source": [
    "history = model.fit(x_train, y_train, validation_data=(x_test, y_test), epochs=50, batch_size=16, verbose=1)"
   ]
  },
  {
   "cell_type": "code",
   "execution_count": 16,
   "id": "e0665751",
   "metadata": {},
   "outputs": [],
   "source": [
    "loss = history.history['loss']\n",
    "val_loss = history.history['val_loss']"
   ]
  },
  {
   "cell_type": "markdown",
   "id": "6b39fb97",
   "metadata": {},
   "source": [
    "### Predicting"
   ]
  },
  {
   "cell_type": "code",
   "execution_count": 17,
   "id": "9500086d",
   "metadata": {},
   "outputs": [],
   "source": [
    "trainPredict = model.predict(x_train)\n",
    "testPredict = model.predict(x_test)"
   ]
  },
  {
   "cell_type": "code",
   "execution_count": 18,
   "id": "6f9871af",
   "metadata": {},
   "outputs": [
    {
     "name": "stdout",
     "output_type": "stream",
     "text": [
      "Train shape: (1520, 1)\n",
      "Test shape: (643, 1)\n"
     ]
    }
   ],
   "source": [
    "print(\"Train shape:\", trainPredict.shape)\n",
    "print(\"Test shape:\", testPredict.shape)"
   ]
  },
  {
   "cell_type": "markdown",
   "id": "bafbdf6e",
   "metadata": {},
   "source": [
    "### Inverting predictions"
   ]
  },
  {
   "cell_type": "code",
   "execution_count": 19,
   "id": "0587dc4e",
   "metadata": {},
   "outputs": [],
   "source": [
    "trainPredict = min_max_scaler.inverse_transform(trainPredict)\n",
    "trainY = min_max_scaler.inverse_transform([y_train])\n",
    "trainY = trainY.reshape(y_train.shape)\n",
    "\n",
    "testPredict = min_max_scaler.inverse_transform(testPredict)\n",
    "testY = min_max_scaler.inverse_transform([y_test])\n",
    "testY = testY.reshape(y_test.shape)"
   ]
  },
  {
   "cell_type": "markdown",
   "id": "03b9fdaa",
   "metadata": {},
   "source": [
    "### Root mean squared error"
   ]
  },
  {
   "cell_type": "code",
   "execution_count": 20,
   "id": "10009450",
   "metadata": {},
   "outputs": [
    {
     "name": "stdout",
     "output_type": "stream",
     "text": [
      "Train Score: 350.53 RMSE\n",
      "Test Score: 1968.28 RMSE\n"
     ]
    }
   ],
   "source": [
    "from sklearn.metrics import mean_squared_error\n",
    "from math import sqrt\n",
    "import math\n",
    "\n",
    "trainScore = math.sqrt(mean_squared_error(trainY, trainPredict))\n",
    "print('Train Score: %.2f RMSE' % (trainScore))\n",
    "\n",
    "testScore = math.sqrt(mean_squared_error(testY, testPredict))\n",
    "print('Test Score: %.2f RMSE' % (testScore))"
   ]
  },
  {
   "cell_type": "markdown",
   "id": "9f39c550",
   "metadata": {},
   "source": [
    "### Shifting train and test predictions for plotting"
   ]
  },
  {
   "cell_type": "code",
   "execution_count": 21,
   "id": "c5feeb22",
   "metadata": {},
   "outputs": [],
   "source": [
    "trainPredictPlot = np.empty_like(ds)\n",
    "trainPredictPlot[:, :] = np.nan\n",
    "trainPredictPlot[look_back:len(trainPredict)+look_back, :] = trainPredict\n",
    "\n",
    "testPredictPlot = np.empty_like(ds)\n",
    "testPredictPlot[:, :] = np.nan\n",
    "testPredictPlot[len(trainPredict)+(look_back*2):len(ds), :] = testPredict"
   ]
  },
  {
   "cell_type": "markdown",
   "id": "ca720c2e",
   "metadata": {},
   "source": [
    "### Plotting baseline and predictions"
   ]
  },
  {
   "cell_type": "code",
   "execution_count": 22,
   "id": "da9e1117",
   "metadata": {
    "scrolled": false
   },
   "outputs": [
    {
     "data": {
      "image/png": "[encoded data removed]",
      "text/plain": [
       "<Figure size 1080x504 with 1 Axes>"
      ]
     },
     "metadata": {
      "needs_background": "light"
     },
     "output_type": "display_data"
    }
   ],
   "source": [
    "plt.figure(figsize=(15,7))\n",
    "plt.plot(min_max_scaler.inverse_transform(ds))\n",
    "plt.plot(trainPredictPlot)\n",
    "plt.plot(testPredictPlot)\n",
    "plt.legend([\"Recorded Price Value\", \"Test Price Predict\", \"Train Price Predict\" ], loc=2)\n",
    "plt.ylabel('Price Value')\n",
    "plt.xlabel('Day')\n",
    "plt.show()"
   ]
  },
  {
   "cell_type": "markdown",
   "id": "b87789d4",
   "metadata": {},
   "source": [
    "### R2 and Variance Score"
   ]
  },
  {
   "cell_type": "code",
   "execution_count": 23,
   "id": "066983e5",
   "metadata": {},
   "outputs": [
    {
     "name": "stdout",
     "output_type": "stream",
     "text": [
      "R squared value on Train data: 0.9921000118121078\n",
      "R squared value on Test data: 0.9883110183360189\n"
     ]
    }
   ],
   "source": [
    "from sklearn.metrics import r2_score\n",
    "print(\"R squared value on Train data:\", r2_score(trainY,trainPredict))\n",
    "print(\"R squared value on Test data:\", r2_score(testY,testPredict))"
   ]
  },
  {
   "cell_type": "code",
   "execution_count": 24,
   "id": "5a522a2a",
   "metadata": {},
   "outputs": [
    {
     "name": "stdout",
     "output_type": "stream",
     "text": [
      "Variance value on Train data: 0.9938876176891959\n",
      "Variance value on Test data: 0.9918812082524059\n"
     ]
    }
   ],
   "source": [
    "from sklearn.metrics import explained_variance_score\n",
    "print(\"Variance value on Train data:\", explained_variance_score(trainY,trainPredict))\n",
    "print(\"Variance value on Test data:\", explained_variance_score(testY,testPredict))"
   ]
  },
  {
   "cell_type": "markdown",
   "id": "b349f3cd",
   "metadata": {},
   "source": [
    "### Predicting for next n days and Visualization"
   ]
  },
  {
   "cell_type": "code",
   "execution_count": 25,
   "id": "20368846",
   "metadata": {},
   "outputs": [],
   "source": [
    "x_input = test[len(test)-look_back:].reshape(1,-1)"
   ]
  },
  {
   "cell_type": "code",
   "execution_count": 26,
   "id": "843343a9",
   "metadata": {},
   "outputs": [],
   "source": [
    "temp_input=list(x_input)\n",
    "temp_input=temp_input[0].tolist()"
   ]
  },
  {
   "cell_type": "code",
   "execution_count": 27,
   "id": "af495309",
   "metadata": {},
   "outputs": [
    {
     "name": "stdout",
     "output_type": "stream",
     "text": [
      "[[0.901688814163208], [0.8418591618537903], [0.790083646774292], [0.7452454566955566], [0.7047877907752991], [0.6673325896263123], [0.6324151158332825], [0.5999358892440796], [0.5698633790016174], [0.5421492457389832], [0.5166603326797485], [0.4932488203048706], [0.471719890832901], [0.4518871605396271], [0.4335372745990753]]\n"
     ]
    }
   ],
   "source": [
    "from numpy import array\n",
    "\n",
    "lst_output=[]\n",
    "i=0\n",
    "n=15   # next number of days for which we are predicting\n",
    "while(i<n):\n",
    "    x_input.shape\n",
    "    \n",
    "    if(len(temp_input)>look_back):\n",
    "        x_input=np.array(temp_input[1:])\n",
    "        x_input=x_input.reshape(1,-1)\n",
    "        x_input = x_input.reshape((1, look_back, 1))\n",
    "        yhat = model.predict(x_input, verbose=0)\n",
    "        temp_input.extend(yhat[0].tolist())\n",
    "        temp_input=temp_input[1:]\n",
    "        lst_output.extend(yhat.tolist())\n",
    "        i=i+1\n",
    "    else:\n",
    "        x_input = x_input.reshape((1, look_back,1))\n",
    "        yhat = model.predict(x_input, verbose=0)\n",
    "        temp_input.extend(yhat[0].tolist())\n",
    "        lst_output.extend(yhat.tolist())\n",
    "        i=i+1\n",
    "    \n",
    "\n",
    "print(lst_output)"
   ]
  },
  {
   "cell_type": "code",
   "execution_count": 28,
   "id": "ce1e4523",
   "metadata": {},
   "outputs": [],
   "source": [
    "day_new=np.arange(1, look_back+1)\n",
    "day_pred=np.arange(look_back+1, look_back+n+1)"
   ]
  },
  {
   "cell_type": "code",
   "execution_count": 29,
   "id": "a4e5038b",
   "metadata": {},
   "outputs": [
    {
     "data": {
      "text/plain": [
       "[<matplotlib.lines.Line2D at 0x235bee52220>]"
      ]
     },
     "execution_count": 29,
     "metadata": {},
     "output_type": "execute_result"
    },
    {
     "data": {
      "image/png": "[encoded data removed]",
      "text/plain": [
       "<Figure size 432x288 with 1 Axes>"
      ]
     },
     "metadata": {
      "needs_background": "light"
     },
     "output_type": "display_data"
    }
   ],
   "source": [
    "plt.plot(day_new, min_max_scaler.inverse_transform(ds[len(ds)-look_back:]))\n",
    "plt.plot(day_pred, min_max_scaler.inverse_transform(lst_output))"
   ]
  },
  {
   "cell_type": "markdown",
   "id": "b06c9b4f",
   "metadata": {},
   "source": [
    "* Blue curve shows the data for last 15 days of the given data and orange curve show the predicted data for next 15 days based on the blue curve data"
   ]
  },
  {
   "cell_type": "code",
   "execution_count": 30,
   "id": "a828d7a1",
   "metadata": {},
   "outputs": [
    {
     "data": {
      "text/plain": [
       "[<matplotlib.lines.Line2D at 0x235c2c7c2b0>]"
      ]
     },
     "execution_count": 30,
     "metadata": {},
     "output_type": "execute_result"
    },
    {
     "data": {
      "image/png": "[encoded data removed]",
      "text/plain": [
       "<Figure size 1080x504 with 1 Axes>"
      ]
     },
     "metadata": {
      "needs_background": "light"
     },
     "output_type": "display_data"
    }
   ],
   "source": [
    "plt.figure(figsize=(15,7))\n",
    "df0=ds.tolist()\n",
    "df0.extend(lst_output)\n",
    "plt.plot(df0[2000:])"
   ]
  },
  {
   "cell_type": "markdown",
   "id": "407b10c3",
   "metadata": {},
   "source": [
    "* Predicted data of the prevous step is appended to the original data (here shown from day 2000 onwards)"
   ]
  },
  {
   "cell_type": "code",
   "execution_count": 31,
   "id": "37cd7772",
   "metadata": {},
   "outputs": [
    {
     "data": {
      "text/plain": [
       "[<matplotlib.lines.Line2D at 0x235bdd8e1c0>]"
      ]
     },
     "execution_count": 31,
     "metadata": {},
     "output_type": "execute_result"
    },
    {
     "data": {
      "image/png": "[encoded data removed]",
      "text/plain": [
       "<Figure size 1080x504 with 1 Axes>"
      ]
     },
     "metadata": {
      "needs_background": "light"
     },
     "output_type": "display_data"
    }
   ],
   "source": [
    "plt.figure(figsize=(15,7))\n",
    "df0=min_max_scaler.inverse_transform(df0).tolist()\n",
    "plt.plot(df0)"
   ]
  },
  {
   "cell_type": "markdown",
   "id": "64be0748",
   "metadata": {},
   "source": [
    "* Predicted data appended to the original data, complete data shown here"
   ]
  },
  {
   "cell_type": "code",
   "execution_count": null,
   "id": "49a34e98",
   "metadata": {},
   "outputs": [],
   "source": [
    "# serialize model to JSON\n",
    "model_json = model.to_json()\n",
    "with open(\"model.json\", \"w\") as json_file:\n",
    "    json_file.write(model_json)\n",
    "# serialize weights to HDF5\n",
    "model.save_weights(\"model.h5\")\n",
    "print(\"Saved model to disk\")"
   ]
  },
  {
   "cell_type": "code",
   "execution_count": null,
   "id": "0a7bf0d6",
   "metadata": {},
   "outputs": [],
   "source": []
  }
 ],
 "metadata": {
  "kernelspec": {
   "display_name": "Python 3 (ipykernel)",
   "language": "python",
   "name": "python3"
  },
  "language_info": {
   "codemirror_mode": {
    "name": "ipython",
    "version": 3
   },
   "file_extension": ".py",
   "mimetype": "text/x-python",
   "name": "python",
   "nbconvert_exporter": "python",
   "pygments_lexer": "ipython3",
   "version": "3.8.12"
  }
 },
 "nbformat": 4,
 "nbformat_minor": 5
}
