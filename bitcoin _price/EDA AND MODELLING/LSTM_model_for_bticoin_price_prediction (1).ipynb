{
 "cells": [
  {
   "cell_type": "code",
   "execution_count": 1,
   "id": "72add77c",
   "metadata": {
    "id": "72add77c"
   },
   "outputs": [],
   "source": [
    "import numpy as np\n",
    "import pandas as pd\n",
    "import matplotlib.pyplot as plt\n",
    "import seaborn as sns\n",
    "%matplotlib inline"
   ]
  },
  {
   "cell_type": "code",
   "execution_count": 2,
   "id": "wFqZUk8MRzSs",
   "metadata": {
    "colab": {
     "base_uri": "https://localhost:8080/",
     "height": 74,
     "resources": {
      "http://localhost:8080/nbextensions/google.colab/files.js": {
       "data": "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",
       "headers": [
        [
         "content-type",
         "application/javascript"
        ]
       ],
       "ok": true,
       "status": 200,
       "status_text": ""
      }
     }
    },
    "id": "wFqZUk8MRzSs",
    "outputId": "78a4d571-ad95-48bd-f038-8b107668ed55"
   },
   "outputs": [
    {
     "data": {
      "text/html": [
       "\n",
       "     <input type=\"file\" id=\"files-6d9e5a46-4312-4b29-9a57-1dd4027876d4\" name=\"files[]\" multiple disabled\n",
       "        style=\"border:none\" />\n",
       "     <output id=\"result-6d9e5a46-4312-4b29-9a57-1dd4027876d4\">\n",
       "      Upload widget is only available when the cell has been executed in the\n",
       "      current browser session. Please rerun this cell to enable.\n",
       "      </output>\n",
       "      <script src=\"/nbextensions/google.colab/files.js\"></script> "
      ],
      "text/plain": [
       "<IPython.core.display.HTML object>"
      ]
     },
     "metadata": {},
     "output_type": "display_data"
    },
    {
     "name": "stdout",
     "output_type": "stream",
     "text": [
      "Saving Bitcoin Historical Data.csv to Bitcoin Historical Data.csv\n"
     ]
    }
   ],
   "source": [
    "from google.colab import files\n",
    "data_to_load = files.upload()"
   ]
  },
  {
   "cell_type": "code",
   "execution_count": 152,
   "id": "c626196e",
   "metadata": {
    "colab": {
     "base_uri": "https://localhost:8080/",
     "height": 205
    },
    "id": "c626196e",
    "outputId": "aa5fa47a-5bc4-4a38-ba8e-c3309cc1e85c"
   },
   "outputs": [
    {
     "data": {
      "text/html": [
       "<div>\n",
       "<style scoped>\n",
       "    .dataframe tbody tr th:only-of-type {\n",
       "        vertical-align: middle;\n",
       "    }\n",
       "\n",
       "    .dataframe tbody tr th {\n",
       "        vertical-align: top;\n",
       "    }\n",
       "\n",
       "    .dataframe thead th {\n",
       "        text-align: right;\n",
       "    }\n",
       "</style>\n",
       "<table border=\"1\" class=\"dataframe\">\n",
       "  <thead>\n",
       "    <tr style=\"text-align: right;\">\n",
       "      <th></th>\n",
       "      <th>Date</th>\n",
       "      <th>Price</th>\n",
       "      <th>Open</th>\n",
       "      <th>High</th>\n",
       "      <th>Low</th>\n",
       "      <th>Vol.</th>\n",
       "      <th>Change %</th>\n",
       "    </tr>\n",
       "  </thead>\n",
       "  <tbody>\n",
       "    <tr>\n",
       "      <th>0</th>\n",
       "      <td>Oct 16, 2015</td>\n",
       "      <td>262.9</td>\n",
       "      <td>254.4</td>\n",
       "      <td>267.3</td>\n",
       "      <td>253.9</td>\n",
       "      <td>95.18K</td>\n",
       "      <td>3.31%</td>\n",
       "    </tr>\n",
       "    <tr>\n",
       "      <th>1</th>\n",
       "      <td>Oct 17, 2015</td>\n",
       "      <td>269.6</td>\n",
       "      <td>262.9</td>\n",
       "      <td>275.4</td>\n",
       "      <td>261.7</td>\n",
       "      <td>113.84K</td>\n",
       "      <td>2.55%</td>\n",
       "    </tr>\n",
       "    <tr>\n",
       "      <th>2</th>\n",
       "      <td>Oct 18, 2015</td>\n",
       "      <td>261.7</td>\n",
       "      <td>269.6</td>\n",
       "      <td>272.4</td>\n",
       "      <td>259.5</td>\n",
       "      <td>52.27K</td>\n",
       "      <td>-2.93%</td>\n",
       "    </tr>\n",
       "    <tr>\n",
       "      <th>3</th>\n",
       "      <td>Oct 19, 2015</td>\n",
       "      <td>263.8</td>\n",
       "      <td>261.7</td>\n",
       "      <td>266.0</td>\n",
       "      <td>259.9</td>\n",
       "      <td>58.17K</td>\n",
       "      <td>0.82%</td>\n",
       "    </tr>\n",
       "    <tr>\n",
       "      <th>4</th>\n",
       "      <td>Oct 20, 2015</td>\n",
       "      <td>269.8</td>\n",
       "      <td>263.8</td>\n",
       "      <td>272.1</td>\n",
       "      <td>262.7</td>\n",
       "      <td>75.40K</td>\n",
       "      <td>2.25%</td>\n",
       "    </tr>\n",
       "  </tbody>\n",
       "</table>\n",
       "</div>"
      ],
      "text/plain": [
       "           Date  Price   Open   High    Low     Vol. Change %\n",
       "0  Oct 16, 2015  262.9  254.4  267.3  253.9   95.18K    3.31%\n",
       "1  Oct 17, 2015  269.6  262.9  275.4  261.7  113.84K    2.55%\n",
       "2  Oct 18, 2015  261.7  269.6  272.4  259.5   52.27K   -2.93%\n",
       "3  Oct 19, 2015  263.8  261.7  266.0  259.9   58.17K    0.82%\n",
       "4  Oct 20, 2015  269.8  263.8  272.1  262.7   75.40K    2.25%"
      ]
     },
     "execution_count": 152,
     "metadata": {},
     "output_type": "execute_result"
    }
   ],
   "source": [
    "# Read the csv file for analysis\n",
    "data = pd.read_csv('Bitcoin Historical Data.csv')\n",
    "data.head()"
   ]
  },
  {
   "cell_type": "code",
   "execution_count": 153,
   "id": "oC9YFexN06tU",
   "metadata": {
    "colab": {
     "base_uri": "https://localhost:8080/"
    },
    "id": "oC9YFexN06tU",
    "outputId": "83c8eb2f-d9f8-470f-b098-b1ec9f1b22f4"
   },
   "outputs": [
    {
     "name": "stdout",
     "output_type": "stream",
     "text": [
      "<class 'pandas.core.frame.DataFrame'>\n",
      "RangeIndex: 2193 entries, 0 to 2192\n",
      "Data columns (total 7 columns):\n",
      " #   Column    Non-Null Count  Dtype \n",
      "---  ------    --------------  ----- \n",
      " 0   Date      2193 non-null   object\n",
      " 1   Price     2193 non-null   object\n",
      " 2   Open      2193 non-null   object\n",
      " 3   High      2193 non-null   object\n",
      " 4   Low       2193 non-null   object\n",
      " 5   Vol.      2193 non-null   object\n",
      " 6   Change %  2193 non-null   object\n",
      "dtypes: object(7)\n",
      "memory usage: 120.1+ KB\n"
     ]
    }
   ],
   "source": [
    "data.info()"
   ]
  },
  {
   "cell_type": "code",
   "execution_count": 154,
   "id": "18830775",
   "metadata": {
    "colab": {
     "base_uri": "https://localhost:8080/"
    },
    "id": "18830775",
    "outputId": "622d710c-2c96-41d8-855b-ca29f96b2c39"
   },
   "outputs": [
    {
     "name": "stdout",
     "output_type": "stream",
     "text": [
      "Date        object\n",
      "Price       object\n",
      "Open        object\n",
      "High        object\n",
      "Low         object\n",
      "Vol.        object\n",
      "Change %    object\n",
      "dtype: object\n"
     ]
    }
   ],
   "source": [
    "print(data.dtypes)"
   ]
  },
  {
   "cell_type": "code",
   "execution_count": 155,
   "id": "ecjzytpU1FX6",
   "metadata": {
    "id": "ecjzytpU1FX6"
   },
   "outputs": [],
   "source": [
    "df = pd.to_datetime(data['Date']) #coverting date from object to datetime"
   ]
  },
  {
   "cell_type": "code",
   "execution_count": 156,
   "id": "a77884c3",
   "metadata": {
    "id": "a77884c3"
   },
   "outputs": [],
   "source": [
    "data['Price'] = data['Price'].str.replace(',', '') #removing commas from price and converting to float\n",
    "data['Price'] = data['Price'].astype(float)\n",
    "\n",
    "# checking whether volume is in k or m and converting it respectively .\n",
    "for i,j in data.iterrows():\n",
    "  volume = data.at[i,'Vol.'] \n",
    "  if (volume[-1] == 'K'): \n",
    "    volume = volume.replace('K', '')\n",
    "    data.at[i,'Vol.'] = float(volume)*1000 \n",
    "  elif(volume[-1] == 'M'):\n",
    "    volume = volume.replace('M', '')\n",
    "    data.at[i,'Vol.'] = float(volume)*1000000\n",
    "  \n",
    "#removing % from change and converting it to float  \n",
    "data['Change %'] = data['Change %'].str.replace('%', '')\n",
    "data['Change %'] = data['Change %'].astype(float)"
   ]
  },
  {
   "cell_type": "code",
   "execution_count": 157,
   "id": "127b5767",
   "metadata": {
    "id": "127b5767"
   },
   "outputs": [],
   "source": [
    "data['Open'] = data['Open'].str.replace(',', '')\n",
    "data['Open'] = data['Open'].astype(float)\n",
    "\n",
    "data['High'] = data['High'].str.replace(',', '')\n",
    "data['High'] = data['High'].astype(float)\n",
    "\n",
    "data['Low'] = data['Low'].str.replace(',', '')\n",
    "data['Low'] = data['Low'].astype(float)"
   ]
  },
  {
   "cell_type": "code",
   "execution_count": 158,
   "id": "6f694a9a",
   "metadata": {
    "id": "6f694a9a"
   },
   "outputs": [],
   "source": [
    "data['Vol.'] = data['Vol.'].astype(float)"
   ]
  },
  {
   "cell_type": "code",
   "execution_count": 158,
   "id": "bb5e509f",
   "metadata": {
    "id": "bb5e509f"
   },
   "outputs": [],
   "source": []
  },
  {
   "cell_type": "code",
   "execution_count": 159,
   "id": "0a3dffc0",
   "metadata": {
    "id": "0a3dffc0"
   },
   "outputs": [],
   "source": [
    "data['Date'] = df"
   ]
  },
  {
   "cell_type": "code",
   "execution_count": 160,
   "id": "f5HxDMkn19J7",
   "metadata": {
    "colab": {
     "base_uri": "https://localhost:8080/",
     "height": 205
    },
    "id": "f5HxDMkn19J7",
    "outputId": "3e25539c-58ec-4d13-974f-5301ceaab1d4"
   },
   "outputs": [
    {
     "data": {
      "text/html": [
       "<div>\n",
       "<style scoped>\n",
       "    .dataframe tbody tr th:only-of-type {\n",
       "        vertical-align: middle;\n",
       "    }\n",
       "\n",
       "    .dataframe tbody tr th {\n",
       "        vertical-align: top;\n",
       "    }\n",
       "\n",
       "    .dataframe thead th {\n",
       "        text-align: right;\n",
       "    }\n",
       "</style>\n",
       "<table border=\"1\" class=\"dataframe\">\n",
       "  <thead>\n",
       "    <tr style=\"text-align: right;\">\n",
       "      <th></th>\n",
       "      <th>Date</th>\n",
       "      <th>Price</th>\n",
       "      <th>Open</th>\n",
       "      <th>High</th>\n",
       "      <th>Low</th>\n",
       "      <th>Vol.</th>\n",
       "      <th>Change %</th>\n",
       "    </tr>\n",
       "  </thead>\n",
       "  <tbody>\n",
       "    <tr>\n",
       "      <th>0</th>\n",
       "      <td>2015-10-16</td>\n",
       "      <td>262.9</td>\n",
       "      <td>254.4</td>\n",
       "      <td>267.3</td>\n",
       "      <td>253.9</td>\n",
       "      <td>95180.0</td>\n",
       "      <td>3.31</td>\n",
       "    </tr>\n",
       "    <tr>\n",
       "      <th>1</th>\n",
       "      <td>2015-10-17</td>\n",
       "      <td>269.6</td>\n",
       "      <td>262.9</td>\n",
       "      <td>275.4</td>\n",
       "      <td>261.7</td>\n",
       "      <td>113840.0</td>\n",
       "      <td>2.55</td>\n",
       "    </tr>\n",
       "    <tr>\n",
       "      <th>2</th>\n",
       "      <td>2015-10-18</td>\n",
       "      <td>261.7</td>\n",
       "      <td>269.6</td>\n",
       "      <td>272.4</td>\n",
       "      <td>259.5</td>\n",
       "      <td>52270.0</td>\n",
       "      <td>-2.93</td>\n",
       "    </tr>\n",
       "    <tr>\n",
       "      <th>3</th>\n",
       "      <td>2015-10-19</td>\n",
       "      <td>263.8</td>\n",
       "      <td>261.7</td>\n",
       "      <td>266.0</td>\n",
       "      <td>259.9</td>\n",
       "      <td>58170.0</td>\n",
       "      <td>0.82</td>\n",
       "    </tr>\n",
       "    <tr>\n",
       "      <th>4</th>\n",
       "      <td>2015-10-20</td>\n",
       "      <td>269.8</td>\n",
       "      <td>263.8</td>\n",
       "      <td>272.1</td>\n",
       "      <td>262.7</td>\n",
       "      <td>75400.0</td>\n",
       "      <td>2.25</td>\n",
       "    </tr>\n",
       "  </tbody>\n",
       "</table>\n",
       "</div>"
      ],
      "text/plain": [
       "        Date  Price   Open   High    Low      Vol.  Change %\n",
       "0 2015-10-16  262.9  254.4  267.3  253.9   95180.0      3.31\n",
       "1 2015-10-17  269.6  262.9  275.4  261.7  113840.0      2.55\n",
       "2 2015-10-18  261.7  269.6  272.4  259.5   52270.0     -2.93\n",
       "3 2015-10-19  263.8  261.7  266.0  259.9   58170.0      0.82\n",
       "4 2015-10-20  269.8  263.8  272.1  262.7   75400.0      2.25"
      ]
     },
     "execution_count": 160,
     "metadata": {},
     "output_type": "execute_result"
    }
   ],
   "source": [
    "data.head()"
   ]
  },
  {
   "cell_type": "code",
   "execution_count": 161,
   "id": "HdFhLcsT2EOz",
   "metadata": {
    "colab": {
     "base_uri": "https://localhost:8080/"
    },
    "id": "HdFhLcsT2EOz",
    "outputId": "3903d4aa-400a-499c-e4f5-44f4eb6d97e6"
   },
   "outputs": [
    {
     "name": "stdout",
     "output_type": "stream",
     "text": [
      "<class 'pandas.core.frame.DataFrame'>\n",
      "RangeIndex: 2193 entries, 0 to 2192\n",
      "Data columns (total 7 columns):\n",
      " #   Column    Non-Null Count  Dtype         \n",
      "---  ------    --------------  -----         \n",
      " 0   Date      2193 non-null   datetime64[ns]\n",
      " 1   Price     2193 non-null   float64       \n",
      " 2   Open      2193 non-null   float64       \n",
      " 3   High      2193 non-null   float64       \n",
      " 4   Low       2193 non-null   float64       \n",
      " 5   Vol.      2193 non-null   float64       \n",
      " 6   Change %  2193 non-null   float64       \n",
      "dtypes: datetime64[ns](1), float64(6)\n",
      "memory usage: 120.1 KB\n"
     ]
    }
   ],
   "source": [
    "data.info()"
   ]
  },
  {
   "cell_type": "code",
   "execution_count": 162,
   "id": "GRPYpWSm2UND",
   "metadata": {
    "colab": {
     "base_uri": "https://localhost:8080/",
     "height": 299
    },
    "id": "GRPYpWSm2UND",
    "outputId": "f75cd183-a5a1-4f7f-b9eb-b04e05220bf7"
   },
   "outputs": [
    {
     "data": {
      "text/html": [
       "<div>\n",
       "<style scoped>\n",
       "    .dataframe tbody tr th:only-of-type {\n",
       "        vertical-align: middle;\n",
       "    }\n",
       "\n",
       "    .dataframe tbody tr th {\n",
       "        vertical-align: top;\n",
       "    }\n",
       "\n",
       "    .dataframe thead th {\n",
       "        text-align: right;\n",
       "    }\n",
       "</style>\n",
       "<table border=\"1\" class=\"dataframe\">\n",
       "  <thead>\n",
       "    <tr style=\"text-align: right;\">\n",
       "      <th></th>\n",
       "      <th>Price</th>\n",
       "      <th>Open</th>\n",
       "      <th>High</th>\n",
       "      <th>Low</th>\n",
       "      <th>Vol.</th>\n",
       "      <th>Change %</th>\n",
       "    </tr>\n",
       "  </thead>\n",
       "  <tbody>\n",
       "    <tr>\n",
       "      <th>count</th>\n",
       "      <td>2193.000000</td>\n",
       "      <td>2193.000000</td>\n",
       "      <td>2193.000000</td>\n",
       "      <td>2193.000000</td>\n",
       "      <td>2.193000e+03</td>\n",
       "      <td>2193.000000</td>\n",
       "    </tr>\n",
       "    <tr>\n",
       "      <th>mean</th>\n",
       "      <td>11049.915002</td>\n",
       "      <td>11022.382809</td>\n",
       "      <td>11355.344140</td>\n",
       "      <td>10660.411628</td>\n",
       "      <td>5.079180e+05</td>\n",
       "      <td>0.332088</td>\n",
       "    </tr>\n",
       "    <tr>\n",
       "      <th>std</th>\n",
       "      <td>14372.323846</td>\n",
       "      <td>14334.893312</td>\n",
       "      <td>14787.183059</td>\n",
       "      <td>13841.095977</td>\n",
       "      <td>1.298619e+06</td>\n",
       "      <td>4.028708</td>\n",
       "    </tr>\n",
       "    <tr>\n",
       "      <th>min</th>\n",
       "      <td>261.700000</td>\n",
       "      <td>254.400000</td>\n",
       "      <td>266.000000</td>\n",
       "      <td>253.900000</td>\n",
       "      <td>2.600000e+02</td>\n",
       "      <td>-39.180000</td>\n",
       "    </tr>\n",
       "    <tr>\n",
       "      <th>25%</th>\n",
       "      <td>1248.200000</td>\n",
       "      <td>1243.100000</td>\n",
       "      <td>1257.000000</td>\n",
       "      <td>1218.400000</td>\n",
       "      <td>7.098000e+04</td>\n",
       "      <td>-1.250000</td>\n",
       "    </tr>\n",
       "    <tr>\n",
       "      <th>50%</th>\n",
       "      <td>6867.800000</td>\n",
       "      <td>6862.700000</td>\n",
       "      <td>7137.400000</td>\n",
       "      <td>6681.500000</td>\n",
       "      <td>1.420700e+05</td>\n",
       "      <td>0.230000</td>\n",
       "    </tr>\n",
       "    <tr>\n",
       "      <th>75%</th>\n",
       "      <td>10473.000000</td>\n",
       "      <td>10470.100000</td>\n",
       "      <td>10789.600000</td>\n",
       "      <td>10160.700000</td>\n",
       "      <td>5.099400e+05</td>\n",
       "      <td>1.980000</td>\n",
       "    </tr>\n",
       "    <tr>\n",
       "      <th>max</th>\n",
       "      <td>63540.900000</td>\n",
       "      <td>63544.200000</td>\n",
       "      <td>64778.000000</td>\n",
       "      <td>62067.500000</td>\n",
       "      <td>2.026000e+07</td>\n",
       "      <td>25.560000</td>\n",
       "    </tr>\n",
       "  </tbody>\n",
       "</table>\n",
       "</div>"
      ],
      "text/plain": [
       "              Price          Open  ...          Vol.     Change %\n",
       "count   2193.000000   2193.000000  ...  2.193000e+03  2193.000000\n",
       "mean   11049.915002  11022.382809  ...  5.079180e+05     0.332088\n",
       "std    14372.323846  14334.893312  ...  1.298619e+06     4.028708\n",
       "min      261.700000    254.400000  ...  2.600000e+02   -39.180000\n",
       "25%     1248.200000   1243.100000  ...  7.098000e+04    -1.250000\n",
       "50%     6867.800000   6862.700000  ...  1.420700e+05     0.230000\n",
       "75%    10473.000000  10470.100000  ...  5.099400e+05     1.980000\n",
       "max    63540.900000  63544.200000  ...  2.026000e+07    25.560000\n",
       "\n",
       "[8 rows x 6 columns]"
      ]
     },
     "execution_count": 162,
     "metadata": {},
     "output_type": "execute_result"
    }
   ],
   "source": [
    "data.describe()"
   ]
  },
  {
   "cell_type": "code",
   "execution_count": 163,
   "id": "q39XhbDL2f7r",
   "metadata": {
    "colab": {
     "base_uri": "https://localhost:8080/"
    },
    "id": "q39XhbDL2f7r",
    "outputId": "4757243e-2ca6-4fd1-b4c7-bcf0acf1bf01"
   },
   "outputs": [
    {
     "data": {
      "text/plain": [
       "(2193, 7)"
      ]
     },
     "execution_count": 163,
     "metadata": {},
     "output_type": "execute_result"
    }
   ],
   "source": [
    "data.shape"
   ]
  },
  {
   "cell_type": "code",
   "execution_count": 164,
   "id": "2biUFJ892kGq",
   "metadata": {
    "colab": {
     "base_uri": "https://localhost:8080/"
    },
    "id": "2biUFJ892kGq",
    "outputId": "e0edb8af-fb02-4f8c-b499-f1b919e1895d"
   },
   "outputs": [
    {
     "data": {
      "text/plain": [
       "Date        0\n",
       "Price       0\n",
       "Open        0\n",
       "High        0\n",
       "Low         0\n",
       "Vol.        0\n",
       "Change %    0\n",
       "dtype: int64"
      ]
     },
     "execution_count": 164,
     "metadata": {},
     "output_type": "execute_result"
    }
   ],
   "source": [
    "data.isnull().sum()"
   ]
  },
  {
   "cell_type": "code",
   "execution_count": 165,
   "id": "lAzua70G2q_R",
   "metadata": {
    "colab": {
     "base_uri": "https://localhost:8080/",
     "height": 948
    },
    "id": "lAzua70G2q_R",
    "outputId": "dc3994f5-1101-4b7e-f9af-8818d479ab68"
   },
   "outputs": [
    {
     "data": {
      "image/png": "[encoded data removed]",
      "text/plain": [
       "<Figure size 1440x1224 with 6 Axes>"
      ]
     },
     "metadata": {
      "needs_background": "light"
     },
     "output_type": "display_data"
    }
   ],
   "source": [
    "figure, axes = plt.subplots(2, 3, figsize=(20, 17))\n",
    "\n",
    "ax=sns.boxplot(ax=axes[0,0], data=data['Price'])\n",
    "ax.set_title('Price')\n",
    "ax=sns.boxplot(ax=axes[0,1], data=data['Open'])\n",
    "ax.set_title('Open')\n",
    "ax=sns.boxplot(ax=axes[0,2], data=data['High'])\n",
    "ax.set_title('High')\n",
    "ax=sns.boxplot(ax=axes[1,0], data=data['Low'])\n",
    "ax.set_title('Low')\n",
    "ax=sns.boxplot(ax=axes[1,1], data=data['Vol.'])\n",
    "ax.set_title('Volume')\n",
    "ax=sns.boxplot(ax=axes[1,2], data=data['Change %'])\n",
    "ax.set_title('Change %')\n",
    "\n",
    "plt.show()"
   ]
  },
  {
   "cell_type": "code",
   "execution_count": 166,
   "id": "VxeL3Y_E24YT",
   "metadata": {
    "colab": {
     "base_uri": "https://localhost:8080/"
    },
    "id": "VxeL3Y_E24YT",
    "outputId": "2b65db60-9c12-4890-d508-d995f9526018"
   },
   "outputs": [
    {
     "name": "stdout",
     "output_type": "stream",
     "text": [
      "Upper bound: 1168380.0\n",
      "Lower bound: -587460.0\n",
      "No. of Outliers: 160\n"
     ]
    }
   ],
   "source": [
    "Quartile1 = np.percentile(data['Vol.'], 25, interpolation = 'midpoint')\n",
    "Quartile3 = np.percentile(data['Vol.'], 75, interpolation = 'midpoint')\n",
    "IQR = Quartile3 - Quartile1\n",
    "\n",
    "print(\"Upper bound:\",(Quartile3+1.5*IQR))\n",
    "print(\"Lower bound:\", (Quartile1-1.5*IQR))\n",
    "\n",
    "print(\"No. of Outliers:\", ((data['Vol.'] < (Quartile1 - 1.5 * IQR)) | (data['Vol.'] > (Quartile3 + 1.5 * IQR))).sum() )"
   ]
  },
  {
   "cell_type": "code",
   "execution_count": 167,
   "id": "eOKcIwWc3Hwa",
   "metadata": {
    "colab": {
     "base_uri": "https://localhost:8080/",
     "height": 729
    },
    "id": "eOKcIwWc3Hwa",
    "outputId": "d15c636b-91fc-40ed-c66f-ee07ffa6e60f"
   },
   "outputs": [
    {
     "data": {
      "image/png": "[encoded data removed]",
      "text/plain": [
       "<Figure size 864x864 with 6 Axes>"
      ]
     },
     "metadata": {
      "needs_background": "light"
     },
     "output_type": "display_data"
    }
   ],
   "source": [
    "data.hist(figsize=(12,12))\n",
    "plt.show()"
   ]
  },
  {
   "cell_type": "code",
   "execution_count": 168,
   "id": "D7bybxDH3Tbb",
   "metadata": {
    "colab": {
     "base_uri": "https://localhost:8080/",
     "height": 625
    },
    "id": "D7bybxDH3Tbb",
    "outputId": "f4157528-f9d4-4611-f97e-232e65b7a914"
   },
   "outputs": [
    {
     "data": {
      "text/plain": [
       "<matplotlib.axes._subplots.AxesSubplot at 0x7f6bfb7804d0>"
      ]
     },
     "execution_count": 168,
     "metadata": {},
     "output_type": "execute_result"
    },
    {
     "data": {
      "image/png": "[encoded data removed]",
      "text/plain": [
       "<Figure size 720x720 with 1 Axes>"
      ]
     },
     "metadata": {
      "needs_background": "light"
     },
     "output_type": "display_data"
    }
   ],
   "source": [
    "plt.figure(figsize=(10,10))\n",
    "sns.lineplot(x=data['Date'],y=data['Price'])"
   ]
  },
  {
   "cell_type": "code",
   "execution_count": 169,
   "id": "diBilhva3adC",
   "metadata": {
    "colab": {
     "base_uri": "https://localhost:8080/",
     "height": 450
    },
    "id": "diBilhva3adC",
    "outputId": "2fb99ee6-cc93-4a19-a0c8-869f78d2bf15"
   },
   "outputs": [
    {
     "data": {
      "text/plain": [
       "<matplotlib.axes._subplots.AxesSubplot at 0x7f6bfb78e490>"
      ]
     },
     "execution_count": 169,
     "metadata": {},
     "output_type": "execute_result"
    },
    {
     "data": {
      "image/png": "[encoded data removed]",
      "text/plain": [
       "<Figure size 1080x504 with 2 Axes>"
      ]
     },
     "metadata": {
      "needs_background": "light"
     },
     "output_type": "display_data"
    }
   ],
   "source": [
    "plt.figure(figsize=(15,7))\n",
    "sns.heatmap(data.corr(), annot=True)"
   ]
  },
  {
   "cell_type": "code",
   "execution_count": 170,
   "id": "om6Y6QmA4fvo",
   "metadata": {
    "colab": {
     "base_uri": "https://localhost:8080/",
     "height": 526
    },
    "id": "om6Y6QmA4fvo",
    "outputId": "75fe3ca0-fad0-4ba3-d5b4-8e218cb6f019"
   },
   "outputs": [
    {
     "data": {
      "text/plain": [
       "<matplotlib.axes._subplots.AxesSubplot at 0x7f6bfb1e9c50>"
      ]
     },
     "execution_count": 170,
     "metadata": {},
     "output_type": "execute_result"
    },
    {
     "data": {
      "image/png": "[encoded data removed]",
      "text/plain": [
       "<Figure size 576x576 with 1 Axes>"
      ]
     },
     "metadata": {
      "needs_background": "light"
     },
     "output_type": "display_data"
    }
   ],
   "source": [
    "plt.figure(figsize=(8,8))\n",
    "sns.scatterplot(x=data['Date'],y=data['Vol.'],hue=data['Price'])"
   ]
  },
  {
   "cell_type": "code",
   "execution_count": 171,
   "id": "f68abb01",
   "metadata": {
    "id": "f68abb01"
   },
   "outputs": [],
   "source": [
    "# creating a dataframe with only price as input\n",
    "df1=data.reset_index()['Price']"
   ]
  },
  {
   "cell_type": "code",
   "execution_count": 172,
   "id": "9f91e006",
   "metadata": {
    "colab": {
     "base_uri": "https://localhost:8080/",
     "height": 283
    },
    "id": "9f91e006",
    "outputId": "f9f23ef3-33ad-4932-ddd0-802a179ec0af"
   },
   "outputs": [
    {
     "data": {
      "text/plain": [
       "[<matplotlib.lines.Line2D at 0x7f6bf583f690>]"
      ]
     },
     "execution_count": 172,
     "metadata": {},
     "output_type": "execute_result"
    },
    {
     "data": {
      "image/png": "[encoded data removed]",
      "text/plain": [
       "<Figure size 432x288 with 1 Axes>"
      ]
     },
     "metadata": {
      "needs_background": "light"
     },
     "output_type": "display_data"
    }
   ],
   "source": [
    "plt.plot(df1)"
   ]
  },
  {
   "cell_type": "code",
   "execution_count": 173,
   "id": "a86231e9",
   "metadata": {
    "colab": {
     "base_uri": "https://localhost:8080/"
    },
    "id": "a86231e9",
    "outputId": "0c145112-0d72-45cd-9684-374be9de9e45"
   },
   "outputs": [
    {
     "data": {
      "text/plain": [
       "0         262.9\n",
       "1         269.6\n",
       "2         261.7\n",
       "3         263.8\n",
       "4         269.8\n",
       "         ...   \n",
       "2188    56015.9\n",
       "2189    57380.1\n",
       "2190    57345.8\n",
       "2191    61672.5\n",
       "2192    60861.1\n",
       "Name: Price, Length: 2193, dtype: float64"
      ]
     },
     "execution_count": 173,
     "metadata": {},
     "output_type": "execute_result"
    }
   ],
   "source": [
    "df1"
   ]
  },
  {
   "cell_type": "code",
   "execution_count": 174,
   "id": "0f964e7f",
   "metadata": {
    "id": "0f964e7f"
   },
   "outputs": [],
   "source": [
    "#Scaling price data into range of 0,1\n",
    "from sklearn.preprocessing import MinMaxScaler\n",
    "scaler=MinMaxScaler(feature_range=(0,1))\n",
    "df1=scaler.fit_transform(np.array(df1).reshape(-1,1))"
   ]
  },
  {
   "cell_type": "code",
   "execution_count": 175,
   "id": "7e1addab",
   "metadata": {
    "colab": {
     "base_uri": "https://localhost:8080/"
    },
    "id": "7e1addab",
    "outputId": "43f44d3e-6b24-496f-bf7b-4c68e474ff90"
   },
   "outputs": [
    {
     "data": {
      "text/plain": [
       "array([[1.89635773e-05],\n",
       "       [1.24843550e-04],\n",
       "       [0.00000000e+00],\n",
       "       ...,\n",
       "       [9.02098952e-01],\n",
       "       [9.70473710e-01],\n",
       "       [9.57651171e-01]])"
      ]
     },
     "execution_count": 175,
     "metadata": {},
     "output_type": "execute_result"
    }
   ],
   "source": [
    "df1"
   ]
  },
  {
   "cell_type": "code",
   "execution_count": 176,
   "id": "c14879c4",
   "metadata": {
    "id": "c14879c4"
   },
   "outputs": [],
   "source": [
    "##splitting dataset into train and test split\n",
    "training_size=int(len(df1)*0.75)\n",
    "test_size=len(df1)-training_size\n",
    "train_data,test_data=df1[0:training_size,:],df1[training_size:len(df1),:1]"
   ]
  },
  {
   "cell_type": "code",
   "execution_count": 177,
   "id": "f7db1fc3",
   "metadata": {
    "colab": {
     "base_uri": "https://localhost:8080/"
    },
    "id": "f7db1fc3",
    "outputId": "d3e8840b-ed6a-48eb-8236-558969cd1f72"
   },
   "outputs": [
    {
     "data": {
      "text/plain": [
       "(1644, 549)"
      ]
     },
     "execution_count": 177,
     "metadata": {},
     "output_type": "execute_result"
    }
   ],
   "source": [
    "training_size,test_size"
   ]
  },
  {
   "cell_type": "code",
   "execution_count": 178,
   "id": "728a3c9f",
   "metadata": {
    "colab": {
     "base_uri": "https://localhost:8080/"
    },
    "id": "728a3c9f",
    "outputId": "bdbf5e93-03b6-410b-e17e-7bba8a6547a4"
   },
   "outputs": [
    {
     "data": {
      "text/plain": [
       "array([[1.89635773e-05],\n",
       "       [1.24843550e-04],\n",
       "       [0.00000000e+00],\n",
       "       ...,\n",
       "       [1.03977294e-01],\n",
       "       [1.04129003e-01],\n",
       "       [1.00623902e-01]])"
      ]
     },
     "execution_count": 178,
     "metadata": {},
     "output_type": "execute_result"
    }
   ],
   "source": [
    "train_data"
   ]
  },
  {
   "cell_type": "code",
   "execution_count": 179,
   "id": "63b4e2bf",
   "metadata": {
    "id": "63b4e2bf"
   },
   "outputs": [],
   "source": [
    "import numpy\n",
    "# convert an array of values into a dataset matrix , by given timestep\n",
    " ### for example if we have to predict on basis of previous 15 days price we will take i=0, 0,1,2,3-----14 as input data set and the  15th value be in our y dataset.\n",
    "def create_dataset(dataset, time_step):\n",
    "\tdataX, dataY = [], []\n",
    "\tfor i in range(len(dataset)-time_step-1):\n",
    "\t\ta = dataset[i:(i+time_step), 0]   \n",
    "\t\tdataX.append(a)\n",
    "\t\tdataY.append(dataset[i + time_step, 0])\n",
    "\treturn numpy.array(dataX), numpy.array(dataY)"
   ]
  },
  {
   "cell_type": "code",
   "execution_count": 180,
   "id": "065c4877",
   "metadata": {
    "id": "065c4877"
   },
   "outputs": [],
   "source": [
    "# reshape into X=t,t+1,t+2,t+3 and Y=t+4\n",
    "time_step = 15\n",
    "X_train, y_train = create_dataset(train_data, time_step)\n",
    "X_test, ytest = create_dataset(test_data, time_step)"
   ]
  },
  {
   "cell_type": "code",
   "execution_count": 181,
   "id": "ghOQgBHi7HYJ",
   "metadata": {
    "colab": {
     "base_uri": "https://localhost:8080/"
    },
    "id": "ghOQgBHi7HYJ",
    "outputId": "76618903-a9a7-4e2c-df44-e168d3a7e63c"
   },
   "outputs": [
    {
     "data": {
      "text/plain": [
       "array([[1.89635773e-05, 1.24843550e-04, 0.00000000e+00, ...,\n",
       "        6.60564609e-04, 8.20174718e-04, 1.03351496e-03],\n",
       "       [1.24843550e-04, 0.00000000e+00, 3.31862603e-05, ...,\n",
       "        8.20174718e-04, 1.03351496e-03, 7.82247563e-04],\n",
       "       [0.00000000e+00, 3.31862603e-05, 1.28004147e-04, ...,\n",
       "        1.03351496e-03, 7.82247563e-04, 9.68722740e-04],\n",
       "       ...,\n",
       "       [9.43754030e-02, 8.89502396e-02, 9.68612119e-02, ...,\n",
       "        1.11052289e-01, 1.04321799e-01, 1.04396073e-01],\n",
       "       [8.89502396e-02, 9.68612119e-02, 9.72009760e-02, ...,\n",
       "        1.04321799e-01, 1.04396073e-01, 1.05183062e-01],\n",
       "       [9.68612119e-02, 9.72009760e-02, 1.00772450e-01, ...,\n",
       "        1.04396073e-01, 1.05183062e-01, 1.03977294e-01]])"
      ]
     },
     "execution_count": 181,
     "metadata": {},
     "output_type": "execute_result"
    }
   ],
   "source": [
    "X_train"
   ]
  },
  {
   "cell_type": "code",
   "execution_count": 182,
   "id": "51d0ca37",
   "metadata": {
    "colab": {
     "base_uri": "https://localhost:8080/"
    },
    "id": "51d0ca37",
    "outputId": "eee879af-0abe-4eab-82fa-f8f5837036f4"
   },
   "outputs": [
    {
     "name": "stdout",
     "output_type": "stream",
     "text": [
      "(1628, 15)\n",
      "(1628,)\n"
     ]
    },
    {
     "data": {
      "text/plain": [
       "(None, None)"
      ]
     },
     "execution_count": 182,
     "metadata": {},
     "output_type": "execute_result"
    }
   ],
   "source": [
    "print(X_train.shape), print(y_train.shape)"
   ]
  },
  {
   "cell_type": "code",
   "execution_count": 183,
   "id": "f672749a",
   "metadata": {
    "colab": {
     "base_uri": "https://localhost:8080/"
    },
    "id": "f672749a",
    "outputId": "3163669f-5b04-43c9-b5c6-0ed5dc41d81d"
   },
   "outputs": [
    {
     "name": "stdout",
     "output_type": "stream",
     "text": [
      "(533, 15)\n",
      "(533,)\n"
     ]
    },
    {
     "data": {
      "text/plain": [
       "(None, None)"
      ]
     },
     "execution_count": 183,
     "metadata": {},
     "output_type": "execute_result"
    }
   ],
   "source": [
    "print(X_test.shape), print(ytest.shape)"
   ]
  },
  {
   "cell_type": "code",
   "execution_count": 184,
   "id": "28365650",
   "metadata": {
    "id": "28365650"
   },
   "outputs": [],
   "source": [
    "# reshape input to be [samples, time steps, features] which is required for LSTM\n",
    "X_train =X_train.reshape(X_train.shape[0],X_train.shape[1] , 1)\n",
    "X_test = X_test.reshape(X_test.shape[0],X_test.shape[1] , 1)"
   ]
  },
  {
   "cell_type": "code",
   "execution_count": 185,
   "id": "1d84dc70",
   "metadata": {
    "id": "1d84dc70"
   },
   "outputs": [],
   "source": [
    "### Create the Stacked LSTM model\n",
    "from tensorflow.keras.models import Sequential\n",
    "from tensorflow.keras.layers import Dense\n",
    "from tensorflow.keras.layers import LSTM"
   ]
  },
  {
   "cell_type": "code",
   "execution_count": 186,
   "id": "30b976dc",
   "metadata": {
    "id": "30b976dc"
   },
   "outputs": [],
   "source": [
    "model=Sequential()\n",
    "model.add(LSTM(50,return_sequences=True,input_shape=(15,1)))\n",
    "model.add(LSTM(50,return_sequences=True))\n",
    "model.add(LSTM(50))\n",
    "model.add(Dense(1))\n",
    "model.compile(loss='mean_squared_error',optimizer='adam')"
   ]
  },
  {
   "cell_type": "code",
   "execution_count": 187,
   "id": "69c32254",
   "metadata": {
    "colab": {
     "base_uri": "https://localhost:8080/"
    },
    "id": "69c32254",
    "outputId": "d5421cf0-e73d-4fb1-a01c-1c14f8d22f9d"
   },
   "outputs": [
    {
     "name": "stdout",
     "output_type": "stream",
     "text": [
      "Model: \"sequential_2\"\n",
      "_________________________________________________________________\n",
      "Layer (type)                 Output Shape              Param #   \n",
      "=================================================================\n",
      "lstm_6 (LSTM)                (None, 15, 50)            10400     \n",
      "_________________________________________________________________\n",
      "lstm_7 (LSTM)                (None, 15, 50)            20200     \n",
      "_________________________________________________________________\n",
      "lstm_8 (LSTM)                (None, 50)                20200     \n",
      "_________________________________________________________________\n",
      "dense_2 (Dense)              (None, 1)                 51        \n",
      "=================================================================\n",
      "Total params: 50,851\n",
      "Trainable params: 50,851\n",
      "Non-trainable params: 0\n",
      "_________________________________________________________________\n"
     ]
    }
   ],
   "source": [
    "model.summary()"
   ]
  },
  {
   "cell_type": "code",
   "execution_count": 187,
   "id": "U-RWnos7jzM8",
   "metadata": {
    "id": "U-RWnos7jzM8"
   },
   "outputs": [],
   "source": [
    "\n"
   ]
  },
  {
   "cell_type": "code",
   "execution_count": 188,
   "id": "9bd107df",
   "metadata": {
    "colab": {
     "base_uri": "https://localhost:8080/"
    },
    "id": "9bd107df",
    "outputId": "d32b058c-bdae-4c3d-810e-f5c055b5825c"
   },
   "outputs": [
    {
     "name": "stdout",
     "output_type": "stream",
     "text": [
      "Epoch 1/100\n",
      "26/26 [==============================] - 7s 83ms/step - loss: 0.0019 - val_loss: 0.0059\n",
      "Epoch 2/100\n",
      "26/26 [==============================] - 1s 37ms/step - loss: 2.2406e-04 - val_loss: 0.0036\n",
      "Epoch 3/100\n",
      "26/26 [==============================] - 1s 35ms/step - loss: 1.9468e-04 - val_loss: 0.0054\n",
      "Epoch 4/100\n",
      "26/26 [==============================] - 1s 35ms/step - loss: 1.9012e-04 - val_loss: 0.0078\n",
      "Epoch 5/100\n",
      "26/26 [==============================] - 1s 35ms/step - loss: 1.7140e-04 - val_loss: 0.0086\n",
      "Epoch 6/100\n",
      "26/26 [==============================] - 1s 35ms/step - loss: 1.6090e-04 - val_loss: 0.0124\n",
      "Epoch 7/100\n",
      "26/26 [==============================] - 1s 35ms/step - loss: 1.5834e-04 - val_loss: 0.0138\n",
      "Epoch 8/100\n",
      "26/26 [==============================] - 1s 35ms/step - loss: 1.5598e-04 - val_loss: 0.0134\n",
      "Epoch 9/100\n",
      "26/26 [==============================] - 1s 34ms/step - loss: 1.3969e-04 - val_loss: 0.0125\n",
      "Epoch 10/100\n",
      "26/26 [==============================] - 1s 34ms/step - loss: 1.3363e-04 - val_loss: 0.0162\n",
      "Epoch 11/100\n",
      "26/26 [==============================] - 1s 34ms/step - loss: 1.2773e-04 - val_loss: 0.0151\n",
      "Epoch 12/100\n",
      "26/26 [==============================] - 1s 36ms/step - loss: 1.3091e-04 - val_loss: 0.0138\n",
      "Epoch 13/100\n",
      "26/26 [==============================] - 1s 35ms/step - loss: 1.1504e-04 - val_loss: 0.0131\n",
      "Epoch 14/100\n",
      "26/26 [==============================] - 1s 36ms/step - loss: 1.1768e-04 - val_loss: 0.0118\n",
      "Epoch 15/100\n",
      "26/26 [==============================] - 1s 36ms/step - loss: 1.0396e-04 - val_loss: 0.0157\n",
      "Epoch 16/100\n",
      "26/26 [==============================] - 1s 36ms/step - loss: 9.9146e-05 - val_loss: 0.0144\n",
      "Epoch 17/100\n",
      "26/26 [==============================] - 1s 35ms/step - loss: 1.0363e-04 - val_loss: 0.0183\n",
      "Epoch 18/100\n",
      "26/26 [==============================] - 1s 36ms/step - loss: 1.0345e-04 - val_loss: 0.0145\n",
      "Epoch 19/100\n",
      "26/26 [==============================] - 1s 36ms/step - loss: 9.6706e-05 - val_loss: 0.0181\n",
      "Epoch 20/100\n",
      "26/26 [==============================] - 1s 35ms/step - loss: 9.3797e-05 - val_loss: 0.0111\n",
      "Epoch 21/100\n",
      "26/26 [==============================] - 1s 35ms/step - loss: 9.2259e-05 - val_loss: 0.0165\n",
      "Epoch 22/100\n",
      "26/26 [==============================] - 1s 36ms/step - loss: 9.0142e-05 - val_loss: 0.0181\n",
      "Epoch 23/100\n",
      "26/26 [==============================] - 1s 35ms/step - loss: 8.9204e-05 - val_loss: 0.0165\n",
      "Epoch 24/100\n",
      "26/26 [==============================] - 1s 35ms/step - loss: 8.5752e-05 - val_loss: 0.0167\n",
      "Epoch 25/100\n",
      "26/26 [==============================] - 1s 35ms/step - loss: 9.2446e-05 - val_loss: 0.0162\n",
      "Epoch 26/100\n",
      "26/26 [==============================] - 1s 35ms/step - loss: 8.3249e-05 - val_loss: 0.0135\n",
      "Epoch 27/100\n",
      "26/26 [==============================] - 1s 35ms/step - loss: 8.0679e-05 - val_loss: 0.0081\n",
      "Epoch 28/100\n",
      "26/26 [==============================] - 1s 35ms/step - loss: 8.2055e-05 - val_loss: 0.0129\n",
      "Epoch 29/100\n",
      "26/26 [==============================] - 1s 35ms/step - loss: 7.5965e-05 - val_loss: 0.0078\n",
      "Epoch 30/100\n",
      "26/26 [==============================] - 1s 35ms/step - loss: 9.2108e-05 - val_loss: 0.0100\n",
      "Epoch 31/100\n",
      "26/26 [==============================] - 1s 36ms/step - loss: 7.4076e-05 - val_loss: 0.0105\n",
      "Epoch 32/100\n",
      "26/26 [==============================] - 1s 36ms/step - loss: 7.8456e-05 - val_loss: 0.0076\n",
      "Epoch 33/100\n",
      "26/26 [==============================] - 1s 35ms/step - loss: 6.9733e-05 - val_loss: 0.0083\n",
      "Epoch 34/100\n",
      "26/26 [==============================] - 1s 35ms/step - loss: 7.1641e-05 - val_loss: 0.0099\n",
      "Epoch 35/100\n",
      "26/26 [==============================] - 1s 36ms/step - loss: 7.3409e-05 - val_loss: 0.0052\n",
      "Epoch 36/100\n",
      "26/26 [==============================] - 1s 34ms/step - loss: 7.2755e-05 - val_loss: 0.0092\n",
      "Epoch 37/100\n",
      "26/26 [==============================] - 1s 37ms/step - loss: 6.8678e-05 - val_loss: 0.0078\n",
      "Epoch 38/100\n",
      "26/26 [==============================] - 1s 35ms/step - loss: 7.0304e-05 - val_loss: 0.0043\n",
      "Epoch 39/100\n",
      "26/26 [==============================] - 1s 36ms/step - loss: 6.4363e-05 - val_loss: 0.0051\n",
      "Epoch 40/100\n",
      "26/26 [==============================] - 1s 36ms/step - loss: 6.3461e-05 - val_loss: 0.0075\n",
      "Epoch 41/100\n",
      "26/26 [==============================] - 1s 35ms/step - loss: 6.6520e-05 - val_loss: 0.0058\n",
      "Epoch 42/100\n",
      "26/26 [==============================] - 1s 36ms/step - loss: 6.0051e-05 - val_loss: 0.0060\n",
      "Epoch 43/100\n",
      "26/26 [==============================] - 1s 35ms/step - loss: 5.9524e-05 - val_loss: 0.0030\n",
      "Epoch 44/100\n",
      "26/26 [==============================] - 1s 36ms/step - loss: 6.4486e-05 - val_loss: 0.0054\n",
      "Epoch 45/100\n",
      "26/26 [==============================] - 1s 35ms/step - loss: 5.6731e-05 - val_loss: 0.0045\n",
      "Epoch 46/100\n",
      "26/26 [==============================] - 1s 36ms/step - loss: 5.9855e-05 - val_loss: 0.0048\n",
      "Epoch 47/100\n",
      "26/26 [==============================] - 1s 36ms/step - loss: 5.4145e-05 - val_loss: 0.0060\n",
      "Epoch 48/100\n",
      "26/26 [==============================] - 1s 37ms/step - loss: 5.3442e-05 - val_loss: 0.0035\n",
      "Epoch 49/100\n",
      "26/26 [==============================] - 1s 35ms/step - loss: 5.4724e-05 - val_loss: 0.0032\n",
      "Epoch 50/100\n",
      "26/26 [==============================] - 1s 35ms/step - loss: 5.3786e-05 - val_loss: 0.0052\n",
      "Epoch 51/100\n",
      "26/26 [==============================] - 1s 35ms/step - loss: 5.6891e-05 - val_loss: 0.0052\n",
      "Epoch 52/100\n",
      "26/26 [==============================] - 1s 35ms/step - loss: 5.2327e-05 - val_loss: 0.0028\n",
      "Epoch 53/100\n",
      "26/26 [==============================] - 1s 35ms/step - loss: 5.1410e-05 - val_loss: 0.0031\n",
      "Epoch 54/100\n",
      "26/26 [==============================] - 1s 35ms/step - loss: 4.9431e-05 - val_loss: 0.0037\n",
      "Epoch 55/100\n",
      "26/26 [==============================] - 1s 35ms/step - loss: 4.7069e-05 - val_loss: 0.0042\n",
      "Epoch 56/100\n",
      "26/26 [==============================] - 1s 36ms/step - loss: 5.3322e-05 - val_loss: 0.0036\n",
      "Epoch 57/100\n",
      "26/26 [==============================] - 1s 35ms/step - loss: 4.8214e-05 - val_loss: 0.0031\n",
      "Epoch 58/100\n",
      "26/26 [==============================] - 1s 35ms/step - loss: 4.9356e-05 - val_loss: 0.0050\n",
      "Epoch 59/100\n",
      "26/26 [==============================] - 1s 36ms/step - loss: 4.8887e-05 - val_loss: 0.0032\n",
      "Epoch 60/100\n",
      "26/26 [==============================] - 1s 36ms/step - loss: 4.6456e-05 - val_loss: 0.0024\n",
      "Epoch 61/100\n",
      "26/26 [==============================] - 1s 36ms/step - loss: 5.6486e-05 - val_loss: 0.0045\n",
      "Epoch 62/100\n",
      "26/26 [==============================] - 1s 36ms/step - loss: 4.6607e-05 - val_loss: 0.0037\n",
      "Epoch 63/100\n",
      "26/26 [==============================] - 1s 36ms/step - loss: 4.2948e-05 - val_loss: 0.0024\n",
      "Epoch 64/100\n",
      "26/26 [==============================] - 1s 36ms/step - loss: 4.2952e-05 - val_loss: 0.0030\n",
      "Epoch 65/100\n",
      "26/26 [==============================] - 1s 35ms/step - loss: 4.2205e-05 - val_loss: 0.0019\n",
      "Epoch 66/100\n",
      "26/26 [==============================] - 1s 35ms/step - loss: 4.5811e-05 - val_loss: 0.0025\n",
      "Epoch 67/100\n",
      "26/26 [==============================] - 1s 36ms/step - loss: 4.0265e-05 - val_loss: 0.0048\n",
      "Epoch 68/100\n",
      "26/26 [==============================] - 1s 35ms/step - loss: 4.2380e-05 - val_loss: 0.0024\n",
      "Epoch 69/100\n",
      "26/26 [==============================] - 1s 35ms/step - loss: 3.8786e-05 - val_loss: 0.0028\n",
      "Epoch 70/100\n",
      "26/26 [==============================] - 1s 35ms/step - loss: 3.8544e-05 - val_loss: 0.0024\n",
      "Epoch 71/100\n",
      "26/26 [==============================] - 1s 36ms/step - loss: 3.9053e-05 - val_loss: 0.0031\n",
      "Epoch 72/100\n",
      "26/26 [==============================] - 1s 35ms/step - loss: 3.7801e-05 - val_loss: 0.0031\n",
      "Epoch 73/100\n",
      "26/26 [==============================] - 1s 36ms/step - loss: 3.6353e-05 - val_loss: 0.0023\n",
      "Epoch 74/100\n",
      "26/26 [==============================] - 1s 35ms/step - loss: 3.5115e-05 - val_loss: 0.0037\n",
      "Epoch 75/100\n",
      "26/26 [==============================] - 1s 36ms/step - loss: 3.6393e-05 - val_loss: 0.0021\n",
      "Epoch 76/100\n",
      "26/26 [==============================] - 1s 35ms/step - loss: 3.6439e-05 - val_loss: 0.0026\n",
      "Epoch 77/100\n",
      "26/26 [==============================] - 1s 36ms/step - loss: 3.5405e-05 - val_loss: 0.0016\n",
      "Epoch 78/100\n",
      "26/26 [==============================] - 1s 36ms/step - loss: 3.3531e-05 - val_loss: 0.0030\n",
      "Epoch 79/100\n",
      "26/26 [==============================] - 1s 36ms/step - loss: 3.4911e-05 - val_loss: 0.0020\n",
      "Epoch 80/100\n",
      "26/26 [==============================] - 1s 35ms/step - loss: 3.9551e-05 - val_loss: 0.0024\n",
      "Epoch 81/100\n",
      "26/26 [==============================] - 1s 37ms/step - loss: 3.4432e-05 - val_loss: 0.0028\n",
      "Epoch 82/100\n",
      "26/26 [==============================] - 1s 37ms/step - loss: 3.3030e-05 - val_loss: 0.0036\n",
      "Epoch 83/100\n",
      "26/26 [==============================] - 1s 36ms/step - loss: 3.6058e-05 - val_loss: 0.0019\n",
      "Epoch 84/100\n",
      "26/26 [==============================] - 1s 36ms/step - loss: 4.0318e-05 - val_loss: 0.0017\n",
      "Epoch 85/100\n",
      "26/26 [==============================] - 1s 37ms/step - loss: 3.2385e-05 - val_loss: 0.0026\n",
      "Epoch 86/100\n",
      "26/26 [==============================] - 1s 35ms/step - loss: 2.9757e-05 - val_loss: 0.0022\n",
      "Epoch 87/100\n",
      "26/26 [==============================] - 1s 36ms/step - loss: 3.2015e-05 - val_loss: 0.0026\n",
      "Epoch 88/100\n",
      "26/26 [==============================] - 1s 36ms/step - loss: 3.0676e-05 - val_loss: 0.0022\n",
      "Epoch 89/100\n",
      "26/26 [==============================] - 1s 35ms/step - loss: 2.9599e-05 - val_loss: 0.0026\n",
      "Epoch 90/100\n",
      "26/26 [==============================] - 1s 36ms/step - loss: 2.9257e-05 - val_loss: 0.0023\n",
      "Epoch 91/100\n",
      "26/26 [==============================] - 1s 35ms/step - loss: 3.2981e-05 - val_loss: 0.0029\n",
      "Epoch 92/100\n",
      "26/26 [==============================] - 1s 35ms/step - loss: 3.1792e-05 - val_loss: 0.0022\n",
      "Epoch 93/100\n",
      "26/26 [==============================] - 1s 36ms/step - loss: 3.1643e-05 - val_loss: 0.0019\n",
      "Epoch 94/100\n",
      "26/26 [==============================] - 1s 36ms/step - loss: 3.0462e-05 - val_loss: 0.0025\n",
      "Epoch 95/100\n",
      "26/26 [==============================] - 1s 36ms/step - loss: 3.5651e-05 - val_loss: 0.0018\n",
      "Epoch 96/100\n",
      "26/26 [==============================] - 1s 36ms/step - loss: 2.9763e-05 - val_loss: 0.0016\n",
      "Epoch 97/100\n",
      "26/26 [==============================] - 1s 35ms/step - loss: 3.1356e-05 - val_loss: 0.0016\n",
      "Epoch 98/100\n",
      "26/26 [==============================] - 1s 36ms/step - loss: 2.7260e-05 - val_loss: 0.0019\n",
      "Epoch 99/100\n",
      "26/26 [==============================] - 1s 36ms/step - loss: 2.7589e-05 - val_loss: 0.0027\n",
      "Epoch 100/100\n",
      "26/26 [==============================] - 1s 35ms/step - loss: 2.7489e-05 - val_loss: 0.0019\n"
     ]
    },
    {
     "data": {
      "text/plain": [
       "<keras.callbacks.History at 0x7f6bfb1d1b90>"
      ]
     },
     "execution_count": 188,
     "metadata": {},
     "output_type": "execute_result"
    }
   ],
   "source": [
    "model.fit(X_train,y_train,validation_data=(X_test,ytest),epochs=100,batch_size=64,verbose=1)"
   ]
  },
  {
   "cell_type": "code",
   "execution_count": 189,
   "id": "8ad0c01a",
   "metadata": {
    "id": "8ad0c01a"
   },
   "outputs": [],
   "source": [
    "import tensorflow as tf"
   ]
  },
  {
   "cell_type": "code",
   "execution_count": 190,
   "id": "23d1fce1",
   "metadata": {
    "id": "23d1fce1"
   },
   "outputs": [],
   "source": [
    "###prediction \n",
    "train_predict=model.predict(X_train)\n",
    "test_predict=model.predict(X_test)"
   ]
  },
  {
   "cell_type": "code",
   "execution_count": 191,
   "id": "0ibYAzWJQRAp",
   "metadata": {
    "id": "0ibYAzWJQRAp"
   },
   "outputs": [],
   "source": [
    "##calculating r2 score\n",
    "from sklearn.metrics import r2_score\n",
    "accuracy = r2_score(ytest, test_predict)"
   ]
  },
  {
   "cell_type": "code",
   "execution_count": 192,
   "id": "OyR19U74V1rS",
   "metadata": {
    "colab": {
     "base_uri": "https://localhost:8080/"
    },
    "id": "OyR19U74V1rS",
    "outputId": "78b85cd4-8e0c-4931-ac2a-a5b2fcf10e07"
   },
   "outputs": [
    {
     "data": {
      "text/plain": [
       "0.9754354334005653"
      ]
     },
     "execution_count": 192,
     "metadata": {},
     "output_type": "execute_result"
    }
   ],
   "source": [
    "accuracy"
   ]
  },
  {
   "cell_type": "code",
   "execution_count": 192,
   "id": "kIKxor4y8heS",
   "metadata": {
    "id": "kIKxor4y8heS"
   },
   "outputs": [],
   "source": []
  },
  {
   "cell_type": "code",
   "execution_count": 193,
   "id": "07c4d2fb",
   "metadata": {
    "id": "07c4d2fb"
   },
   "outputs": [],
   "source": [
    "\n",
    "##Transformback to original form\n",
    "train_predict=scaler.inverse_transform(train_predict)\n",
    "test_predict=scaler.inverse_transform(test_predict)\n"
   ]
  },
  {
   "cell_type": "code",
   "execution_count": 194,
   "id": "54254b36",
   "metadata": {
    "colab": {
     "base_uri": "https://localhost:8080/"
    },
    "id": "54254b36",
    "outputId": "a5de51b5-d78d-4f0f-ee12-ea5d29648255"
   },
   "outputs": [
    {
     "data": {
      "text/plain": [
       "6141.432046873059"
      ]
     },
     "execution_count": 194,
     "metadata": {},
     "output_type": "execute_result"
    }
   ],
   "source": [
    "### Calculate RMSE performance metrics\n",
    "import math\n",
    "from sklearn.metrics import mean_squared_error\n",
    "math.sqrt(mean_squared_error(y_train,train_predict))"
   ]
  },
  {
   "cell_type": "code",
   "execution_count": 195,
   "id": "3c4b0b14",
   "metadata": {
    "colab": {
     "base_uri": "https://localhost:8080/"
    },
    "id": "3c4b0b14",
    "outputId": "dcc193dd-ad7a-4158-8545-67011cca0bd3"
   },
   "outputs": [
    {
     "name": "stdout",
     "output_type": "stream",
     "text": [
      "32988.67140864067\n"
     ]
    }
   ],
   "source": [
    "### Test Data RMSE\n",
    "Rmse = math.sqrt(mean_squared_error(ytest,test_predict))\n",
    "print(Rmse)"
   ]
  },
  {
   "cell_type": "code",
   "execution_count": 195,
   "id": "91400uctT8Bl",
   "metadata": {
    "id": "91400uctT8Bl"
   },
   "outputs": [],
   "source": []
  },
  {
   "cell_type": "code",
   "execution_count": 195,
   "id": "IVlU_6FrU9Y9",
   "metadata": {
    "id": "IVlU_6FrU9Y9"
   },
   "outputs": [],
   "source": []
  },
  {
   "cell_type": "code",
   "execution_count": 196,
   "id": "8544b79c",
   "metadata": {
    "colab": {
     "base_uri": "https://localhost:8080/",
     "height": 265
    },
    "id": "8544b79c",
    "outputId": "de2ca82d-2214-407b-8902-6280d9f06c41"
   },
   "outputs": [
    {
     "data": {
      "image/png": "[encoded data removed]",
      "text/plain": [
       "<Figure size 432x288 with 1 Axes>"
      ]
     },
     "metadata": {
      "needs_background": "light"
     },
     "output_type": "display_data"
    }
   ],
   "source": [
    "### Plotting \n",
    "# shift train predictions for plotting\n",
    "look_back=15\n",
    "trainPredictPlot = numpy.empty_like(df1)\n",
    "trainPredictPlot[:, :] = np.nan\n",
    "trainPredictPlot[look_back:len(train_predict)+look_back, :] = train_predict\n",
    "# shift test predictions for plotting\n",
    "testPredictPlot = numpy.empty_like(df1)\n",
    "testPredictPlot[:, :] = numpy.nan\n",
    "testPredictPlot[len(train_predict)+(look_back*2)+1:len(df1)-1, :] = test_predict\n",
    "# plot baseline and predictions\n",
    "plt.plot(scaler.inverse_transform(df1))\n",
    "plt.plot(trainPredictPlot)\n",
    "plt.plot(testPredictPlot)\n",
    "plt.show()"
   ]
  },
  {
   "cell_type": "code",
   "execution_count": 197,
   "id": "71404633",
   "metadata": {
    "colab": {
     "base_uri": "https://localhost:8080/"
    },
    "id": "71404633",
    "outputId": "a1319a6d-2080-461f-9668-9a0659c8f6f4"
   },
   "outputs": [
    {
     "data": {
      "text/plain": [
       "549"
      ]
     },
     "execution_count": 197,
     "metadata": {},
     "output_type": "execute_result"
    }
   ],
   "source": [
    "len(test_data)"
   ]
  },
  {
   "cell_type": "code",
   "execution_count": 198,
   "id": "7d4bd614",
   "metadata": {
    "colab": {
     "base_uri": "https://localhost:8080/"
    },
    "id": "7d4bd614",
    "outputId": "60948bd9-5d93-4942-de16-ba33b12cc386"
   },
   "outputs": [
    {
     "data": {
      "text/plain": [
       "(1, 15)"
      ]
     },
     "execution_count": 198,
     "metadata": {},
     "output_type": "execute_result"
    }
   ],
   "source": [
    "x_input=test_data[534:].reshape(1,-1)\n",
    "x_input.shape"
   ]
  },
  {
   "cell_type": "code",
   "execution_count": 199,
   "id": "46b1b6d0",
   "metadata": {
    "id": "46b1b6d0"
   },
   "outputs": [],
   "source": [
    "temp_input=list(x_input)\n",
    "\n",
    "temp_input=temp_input[0].tolist()"
   ]
  },
  {
   "cell_type": "code",
   "execution_count": 200,
   "id": "70bca388",
   "metadata": {
    "colab": {
     "base_uri": "https://localhost:8080/"
    },
    "id": "70bca388",
    "outputId": "9dbd70aa-a8c0-42ed-caa5-590744c9bbe9"
   },
   "outputs": [
    {
     "data": {
      "text/plain": [
       "[0.7491434784257702,\n",
       " 0.7575696279346135,\n",
       " 0.7738024500941857,\n",
       " 0.8092327336628782,\n",
       " 0.8701358424253149,\n",
       " 0.8458103136575683,\n",
       " 0.8478773435820932,\n",
       " 0.86411964753031,\n",
       " 0.8600930479525656,\n",
       " 0.9041770439575721,\n",
       " 0.8810825674155172,\n",
       " 0.9026409941971453,\n",
       " 0.9020989519462951,\n",
       " 0.9704737101606846,\n",
       " 0.9576511713169571]"
      ]
     },
     "execution_count": 200,
     "metadata": {},
     "output_type": "execute_result"
    }
   ],
   "source": [
    "temp_input"
   ]
  },
  {
   "cell_type": "code",
   "execution_count": 201,
   "id": "02c190cc",
   "metadata": {
    "colab": {
     "base_uri": "https://localhost:8080/"
    },
    "id": "02c190cc",
    "outputId": "d00e26e9-3ecc-447f-c992-31c6894fe893"
   },
   "outputs": [
    {
     "name": "stdout",
     "output_type": "stream",
     "text": [
      "[0.8503528]\n",
      "1 day input [0.75756963 0.77380245 0.80923273 0.87013584 0.84581031 0.84787734\n",
      " 0.86411965 0.86009305 0.90417704 0.88108257 0.90264099 0.90209895\n",
      " 0.97047371 0.95765117 0.85035282]\n",
      "1 day output [[0.6891513]]\n",
      "2 day input [0.77380245 0.80923273 0.87013584 0.84581031 0.84787734 0.86411965\n",
      " 0.86009305 0.90417704 0.88108257 0.90264099 0.90209895 0.97047371\n",
      " 0.95765117 0.85035282 0.68915129]\n",
      "2 day output [[0.53594005]]\n",
      "3 day input [0.80923273 0.87013584 0.84581031 0.84787734 0.86411965 0.86009305\n",
      " 0.90417704 0.88108257 0.90264099 0.90209895 0.97047371 0.95765117\n",
      " 0.85035282 0.68915129 0.53594005]\n",
      "3 day output [[0.43736103]]\n",
      "4 day input [0.87013584 0.84581031 0.84787734 0.86411965 0.86009305 0.90417704\n",
      " 0.88108257 0.90264099 0.90209895 0.97047371 0.95765117 0.85035282\n",
      " 0.68915129 0.53594005 0.43736103]\n",
      "4 day output [[0.39497092]]\n",
      "5 day input [0.84581031 0.84787734 0.86411965 0.86009305 0.90417704 0.88108257\n",
      " 0.90264099 0.90209895 0.97047371 0.95765117 0.85035282 0.68915129\n",
      " 0.53594005 0.43736103 0.39497092]\n",
      "5 day output [[0.38488215]]\n",
      "6 day input [0.84787734 0.86411965 0.86009305 0.90417704 0.88108257 0.90264099\n",
      " 0.90209895 0.97047371 0.95765117 0.85035282 0.68915129 0.53594005\n",
      " 0.43736103 0.39497092 0.38488215]\n",
      "6 day output [[0.38458517]]\n",
      "7 day input [0.86411965 0.86009305 0.90417704 0.88108257 0.90264099 0.90209895\n",
      " 0.97047371 0.95765117 0.85035282 0.68915129 0.53594005 0.43736103\n",
      " 0.39497092 0.38488215 0.38458517]\n",
      "7 day output [[0.38092956]]\n",
      "8 day input [0.86009305 0.90417704 0.88108257 0.90264099 0.90209895 0.97047371\n",
      " 0.95765117 0.85035282 0.68915129 0.53594005 0.43736103 0.39497092\n",
      " 0.38488215 0.38458517 0.38092956]\n",
      "8 day output [[0.36876938]]\n",
      "9 day input [0.90417704 0.88108257 0.90264099 0.90209895 0.97047371 0.95765117\n",
      " 0.85035282 0.68915129 0.53594005 0.43736103 0.39497092 0.38488215\n",
      " 0.38458517 0.38092956 0.36876938]\n",
      "9 day output [[0.34842753]]\n",
      "10 day input [0.88108257 0.90264099 0.90209895 0.97047371 0.95765117 0.85035282\n",
      " 0.68915129 0.53594005 0.43736103 0.39497092 0.38488215 0.38458517\n",
      " 0.38092956 0.36876938 0.34842753]\n",
      "10 day output [[0.323362]]\n",
      "11 day input [0.90264099 0.90209895 0.97047371 0.95765117 0.85035282 0.68915129\n",
      " 0.53594005 0.43736103 0.39497092 0.38488215 0.38458517 0.38092956\n",
      " 0.36876938 0.34842753 0.32336199]\n",
      "11 day output [[0.29767582]]\n",
      "12 day input [0.90209895 0.97047371 0.95765117 0.85035282 0.68915129 0.53594005\n",
      " 0.43736103 0.39497092 0.38488215 0.38458517 0.38092956 0.36876938\n",
      " 0.34842753 0.32336199 0.29767582]\n",
      "12 day output [[0.27458552]]\n",
      "13 day input [0.97047371 0.95765117 0.85035282 0.68915129 0.53594005 0.43736103\n",
      " 0.39497092 0.38488215 0.38458517 0.38092956 0.36876938 0.34842753\n",
      " 0.32336199 0.29767582 0.27458552]\n",
      "13 day output [[0.25560576]]\n",
      "14 day input [0.95765117 0.85035282 0.68915129 0.53594005 0.43736103 0.39497092\n",
      " 0.38488215 0.38458517 0.38092956 0.36876938 0.34842753 0.32336199\n",
      " 0.29767582 0.27458552 0.25560576]\n",
      "14 day output [[0.2409942]]\n",
      "[[0.8503528237342834], [0.6891512870788574], [0.5359400510787964], [0.4373610317707062], [0.39497092366218567], [0.3848821520805359], [0.3845851719379425], [0.380929559469223], [0.3687693774700165], [0.34842753410339355], [0.32336199283599854], [0.29767581820487976], [0.2745855152606964], [0.2556057572364807], [0.24099420011043549]]\n"
     ]
    }
   ],
   "source": [
    "\n",
    "# demonstrate prediction for next 15 days\n",
    "from numpy import array\n",
    "\n",
    "lst_output=[]\n",
    "n_steps=15\n",
    "i=0\n",
    "while(i<15):\n",
    "    \n",
    "    if(len(temp_input)>15):\n",
    "        #print(temp_input)\n",
    "        x_input=np.array(temp_input[1:])\n",
    "        print(\"{} day input {}\".format(i,x_input))\n",
    "        x_input=x_input.reshape(1,-1)\n",
    "        x_input = x_input.reshape((1, n_steps, 1))\n",
    "        #print(x_input)\n",
    "        yhat = model.predict(x_input, verbose=0)\n",
    "        print(\"{} day output {}\".format(i,yhat))\n",
    "        temp_input.extend(yhat[0].tolist())\n",
    "        temp_input=temp_input[1:]\n",
    "        #print(temp_input)\n",
    "        lst_output.extend(yhat.tolist())\n",
    "        i=i+1\n",
    "    else: #for very first iteration it will enter in this loop\n",
    "        x_input = x_input.reshape((1, n_steps,1))\n",
    "        yhat = model.predict(x_input, verbose=0)\n",
    "        print(yhat[0])\n",
    "        temp_input.extend(yhat[0].tolist())\n",
    "       \n",
    "        lst_output.extend(yhat.tolist())\n",
    "        i=i+1\n",
    "    \n",
    "\n",
    "print(lst_output)"
   ]
  },
  {
   "cell_type": "code",
   "execution_count": 44,
   "id": "3e68874c",
   "metadata": {
    "id": "3e68874c"
   },
   "outputs": [],
   "source": [
    "day_new=np.arange(1,16)\n",
    "day_pred=np.arange(16,31)"
   ]
  },
  {
   "cell_type": "code",
   "execution_count": 45,
   "id": "c97975b8",
   "metadata": {
    "colab": {
     "base_uri": "https://localhost:8080/"
    },
    "id": "c97975b8",
    "outputId": "f028bc5d-8f54-4893-bd4d-afefe75bf45c"
   },
   "outputs": [
    {
     "data": {
      "text/plain": [
       "2193"
      ]
     },
     "execution_count": 45,
     "metadata": {},
     "output_type": "execute_result"
    }
   ],
   "source": [
    "len(df1)"
   ]
  },
  {
   "cell_type": "code",
   "execution_count": 47,
   "id": "75b828a2",
   "metadata": {
    "colab": {
     "base_uri": "https://localhost:8080/",
     "height": 283
    },
    "id": "75b828a2",
    "outputId": "d6e96fe4-e9d7-4809-c576-ce06f43e485c"
   },
   "outputs": [
    {
     "data": {
      "text/plain": [
       "[<matplotlib.lines.Line2D at 0x7f6c08f03990>]"
      ]
     },
     "execution_count": 47,
     "metadata": {},
     "output_type": "execute_result"
    },
    {
     "data": {
      "image/png": "[encoded data removed]",
      "text/plain": [
       "<Figure size 432x288 with 1 Axes>"
      ]
     },
     "metadata": {
      "needs_background": "light"
     },
     "output_type": "display_data"
    }
   ],
   "source": [
    "plt.plot(day_new,scaler.inverse_transform(df1[2178:]))\n",
    "plt.plot(day_pred,scaler.inverse_transform(lst_output))"
   ]
  },
  {
   "cell_type": "code",
   "execution_count": null,
   "id": "59ae8e75",
   "metadata": {
    "id": "59ae8e75"
   },
   "outputs": [],
   "source": [
    "## prediction shows that price is about fall and again having some peak and then decrease."
   ]
  },
  {
   "cell_type": "code",
   "execution_count": null,
   "id": "ccf449ba",
   "metadata": {
    "id": "ccf449ba",
    "outputId": "1312cdfc-7fd1-4085-e51b-f6dc0e1a9e14"
   },
   "outputs": [
    {
     "data": {
      "text/plain": [
       "[<matplotlib.lines.Line2D at 0x9e832a1a60>]"
      ]
     },
     "execution_count": 65,
     "metadata": {},
     "output_type": "execute_result"
    },
    {
     "data": {
      "image/png": "[encoded data removed]",
      "text/plain": [
       "<Figure size 432x288 with 1 Axes>"
      ]
     },
     "metadata": {
      "needs_background": "light"
     },
     "output_type": "display_data"
    }
   ],
   "source": [
    "df3=df1.tolist()\n",
    "df3.extend(lst_output)\n",
    "plt.plot(df3[2000:])"
   ]
  },
  {
   "cell_type": "code",
   "execution_count": null,
   "id": "608e8c6b",
   "metadata": {
    "id": "608e8c6b"
   },
   "outputs": [],
   "source": [
    "df3=scaler.inverse_transform(df3).tolist()"
   ]
  },
  {
   "cell_type": "code",
   "execution_count": null,
   "id": "b19c4883",
   "metadata": {
    "id": "b19c4883",
    "outputId": "b34de6b9-652c-4c16-f35a-55e3997e9453"
   },
   "outputs": [
    {
     "data": {
      "text/plain": [
       "[<matplotlib.lines.Line2D at 0x9e86291820>]"
      ]
     },
     "execution_count": 67,
     "metadata": {},
     "output_type": "execute_result"
    },
    {
     "data": {
      "image/png": "[encoded data removed]",
      "text/plain": [
       "<Figure size 432x288 with 1 Axes>"
      ]
     },
     "metadata": {
      "needs_background": "light"
     },
     "output_type": "display_data"
    }
   ],
   "source": [
    "plt.plot(df3)"
   ]
  },
  {
   "cell_type": "code",
   "execution_count": null,
   "id": "6a46ec2e",
   "metadata": {
    "id": "6a46ec2e"
   },
   "outputs": [],
   "source": []
  },
  {
   "cell_type": "code",
   "execution_count": null,
   "id": "f01c5efe",
   "metadata": {
    "id": "f01c5efe"
   },
   "outputs": [],
   "source": []
  }
 ],
 "metadata": {
  "colab": {
   "collapsed_sections": [],
   "name": "LSTM model for bticoin price prediction.ipynb",
   "provenance": []
  },
  "kernelspec": {
   "display_name": "Python 3",
   "language": "python",
   "name": "python3"
  },
  "language_info": {
   "codemirror_mode": {
    "name": "ipython",
    "version": 3
   },
   "file_extension": ".py",
   "mimetype": "text/x-python",
   "name": "python",
   "nbconvert_exporter": "python",
   "pygments_lexer": "ipython3",
   "version": "3.8.8"
  }
 },
 "nbformat": 4,
 "nbformat_minor": 5
}
